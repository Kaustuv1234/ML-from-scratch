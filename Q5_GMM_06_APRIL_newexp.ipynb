{
  "cells": [
    {
      "cell_type": "markdown",
      "metadata": {
        "id": "view-in-github",
        "colab_type": "text"
      },
      "source": [
        "<a href=\"https://colab.research.google.com/github/apoorvrocks/Machine-Learning-Assignment-1/blob/main/Q5_GMM_06_APRIL_newexp.ipynb\" target=\"_parent\"><img src=\"https://colab.research.google.com/assets/colab-badge.svg\" alt=\"Open In Colab\"/></a>"
      ]
    },
    {
      "cell_type": "code",
      "execution_count": null,
      "metadata": {
        "id": "wPa9ZQo0Jboo"
      },
      "outputs": [],
      "source": [
        ""
      ]
    },
    {
      "cell_type": "markdown",
      "metadata": {
        "id": "DFF4dhxyLwLi"
      },
      "source": [
        "\n",
        "\n",
        "1.   200 classes for training.\n",
        "2.   Each class has 500 images.\n",
        "3.   The test set contains 10,000 images.\n",
        "4.   All images are 64x64x3 colored ones.\n",
        "\n",
        "\n",
        "\n",
        "\n"
      ]
    },
    {
      "cell_type": "code",
      "execution_count": null,
      "metadata": {
        "id": "1-2J5lb1vcYW"
      },
      "outputs": [],
      "source": [
        "from zipfile import ZipFile\n",
        "import os\n",
        "import random\n",
        "import numpy as np\n",
        "from skimage import color, io\n",
        "from skimage.transform import resize\n",
        "import matplotlib.pyplot as plt\n",
        "import gc\n",
        "from scipy.stats import multivariate_normal\n",
        "import scipy\n",
        "import cv2"
      ]
    },
    {
      "cell_type": "markdown",
      "metadata": {
        "id": "LOuzjrhEtr07"
      },
      "source": [
        "UNZIP DATA"
      ]
    },
    {
      "cell_type": "code",
      "execution_count": null,
      "metadata": {
        "id": "rCmakPm5aoAJ"
      },
      "outputs": [],
      "source": [
        "with ZipFile('/content/drive/MyDrive/IISc/PRNN/tiny-imagenet-200.zip', 'r') as zipObj:\n",
        "   zipObj.extractall()"
      ]
    },
    {
      "cell_type": "markdown",
      "metadata": {
        "id": "bC7C8eELtwid"
      },
      "source": [
        "SET PATHS"
      ]
    },
    {
      "cell_type": "code",
      "execution_count": null,
      "metadata": {
        "id": "CWWBu1pgMqIQ"
      },
      "outputs": [],
      "source": [
        "test_path = '/content/tiny-imagenet-200/test'\n",
        "train_path = '/content/tiny-imagenet-200/train'\n",
        "validation_path = '/content/tiny-imagenet-200/val'"
      ]
    },
    {
      "cell_type": "code",
      "execution_count": null,
      "metadata": {
        "id": "lMJZ3BuEVtlh"
      },
      "outputs": [],
      "source": [
        "# x = []\n",
        "# NO_CLASSES = 10\n",
        "# NO_IMAGES = 50\n",
        "# class_folders = os.listdir(train_path)\n",
        "\n",
        "# # loop over classes\n",
        "# for class_folder in class_folders[:NO_CLASSES]: \n",
        "\n",
        "#     image_folder_path = train_path + os.path.sep + class_folder + os.path.sep + 'images' + os.path.sep\n",
        "#     image_file_names = os.listdir(image_folder_path)\n",
        "\n",
        "#     # loop over images\n",
        "#     for image_file_name in image_file_names[:NO_IMAGES]: # loop over all images in a class\n",
        "#         img = io.imread(image_folder_path + image_file_name)\n",
        "#         if len(img.shape) == 3:\n",
        "#             imgGray = np.mean(img, axis=2)\n",
        "#             img_resized = resize(imgGray, (10, 10))\n",
        "#             flat_image = img_resized.flatten() \n",
        "            \n",
        "#             x.append(flat_image)\n",
        "\n",
        "\n",
        "\n",
        "x = []\n",
        "NO_CLASSES = 10\n",
        "NO_IMAGES = 100\n",
        "class_folders = os.listdir(train_path)\n",
        "\n",
        "# loop over classes\n",
        "for class_folder in class_folders[:NO_CLASSES]: \n",
        "\n",
        "  image_folder_path = train_path + os.path.sep + class_folder + os.path.sep + 'images' + os.path.sep\n",
        "  image_file_names = os.listdir(image_folder_path)\n",
        "\n",
        "  # loop over images\n",
        "  for image_file_name in image_file_names[:NO_IMAGES]: # loop over all images in a class\n",
        "    img = io.imread(image_folder_path + image_file_name)\n",
        "    img = cv2.resize(img, (28, 28))\n",
        "    if len(img.shape) == 3:\n",
        "        imgGray = 0.3*img[:,:,0] + 0.59*img[:,:,1] + 0.11*img[:,:,2]\n",
        "        flat_image = imgGray.flatten() \n",
        "    else:\n",
        "        flat_image = img.flatten()\n",
        "    \n",
        "    x.append(flat_image)\n"
      ]
    },
    {
      "cell_type": "code",
      "execution_count": null,
      "metadata": {
        "colab": {
          "base_uri": "https://localhost:8080/"
        },
        "id": "D-6zU0cojztj",
        "outputId": "8edc52e5-9463-470a-cbe1-7f0d1433ea93"
      },
      "outputs": [
        {
          "output_type": "stream",
          "name": "stdout",
          "text": [
            "(1000, 784)\n"
          ]
        }
      ],
      "source": [
        "# RANGE = (0, 1)\n",
        "# X = normalize_matrix(np.array(x, dtype = np.float64), RANGE)\n",
        "X = np.array(x) / 255\n",
        "\n",
        "print(X.shape)\n",
        "# X= np.array(x)"
      ]
    },
    {
      "cell_type": "code",
      "execution_count": null,
      "metadata": {
        "id": "tOpj2bdTt9ch"
      },
      "outputs": [],
      "source": [
        "# X = X[:500, :100]\n",
        "# print(X.shape)"
      ]
    },
    {
      "cell_type": "code",
      "execution_count": null,
      "metadata": {
        "id": "5HCBOH9hTcXC"
      },
      "outputs": [],
      "source": [
        "def validate(**kwargs):\n",
        "    for key, value in kwargs.items():\n",
        "        if np.any(np.isnan(value)):\n",
        "            raise Exception(f'--- {key} contains Nan')\n",
        "        if np.any(np.isinf(value)):\n",
        "            raise Exception(f'--- {key} contains Inf')\n",
        "\n",
        "def disp_resp(a, n_clusters):\n",
        "    import pandas as pd\n",
        "    import numpy as np\n",
        "\n",
        "    df_describe = pd.DataFrame(a)\n",
        "    print(df_describe.describe())\n",
        "\n",
        "    no_cols = 200\n",
        "    z = a.copy()\n",
        "    for col in range(a.shape[1]):\n",
        "        repeats_array = np.transpose([a[:,col]] * no_cols)\n",
        "        # print(repeats_array)\n",
        "        z = np.hstack((z, repeats_array))\n",
        "    # print(z)\n",
        "    z = (z / np.max(z)) * 255\n",
        "    plt.figure(figsize=(10, 10))\n",
        "    im = plt.imshow(z, cmap='magma', interpolation='none')\n",
        "    plt.show()"
      ]
    },
    {
      "cell_type": "code",
      "execution_count": null,
      "metadata": {
        "id": "QuP-0TiosR-P"
      },
      "outputs": [],
      "source": [
        "class GMM:\n",
        "    \n",
        "    \n",
        "    def __init__(self, n_features, n_clusters):\n",
        "        self.clusters = {}\n",
        "        self.n_clusters = n_clusters\n",
        "        self.n_features = n_features\n",
        "        self.eps = 1e-10\n",
        "\n",
        "        pi = np.random.rand(n_clusters)\n",
        "        self.clusters['pi'] = np.ones(n_clusters) / n_clusters\n",
        "        \n",
        "        print('self.clusters[pi]', self.clusters['pi'])\n",
        "        self.clusters['logdet'] = np.zeros(n_clusters, dtype=np.float64)\n",
        "        self.clusters['mu'] = np.random.rand(self.n_clusters, self.n_features) * 2 - 1\n",
        "\n",
        "        inv_cov = []\n",
        "        for i in range(n_clusters):\n",
        "            inv_cov.append(np.eye(self.n_features))\n",
        "        self.clusters['inv_cov'] = np.array(inv_cov)\n",
        "        self.clusters['cov'] = np.array(inv_cov)\n",
        "\n",
        "        print('pi shape', self.clusters['pi'].shape)\n",
        "        print('mu shape', self.clusters['mu'].shape)\n",
        "        print('det shape', self.clusters['logdet'].shape)\n",
        "        print('inv_cov shape', self.clusters['inv_cov'].shape)\n",
        "\n",
        "\n",
        "    def check_power(self, power):\n",
        "        if np.max(power) >= 710:\n",
        "            print(f'High Exponent Error  min:{str(np.min(power))}  max:{str(np.max(power))}  new:{str(np.max(power) - 700)}')\n",
        "\n",
        "    \n",
        "    \n",
        "\n",
        "    def expectation_step(self, X):\n",
        "        print('E step')\n",
        "        # calculate responsibility for each data point, for each class\n",
        "        self.resp = np.zeros((self.N, self.n_clusters), dtype=np.float64)\n",
        "        self.exp = np.zeros((self.N, self.n_clusters), dtype=np.float64)\n",
        "        self.log_likelihood = 0\n",
        "\n",
        "        for k in range(self.n_clusters):\n",
        "            for n in range(len(X)):\n",
        "                diff = (X[n] - self.clusters['mu'][k])\n",
        "                self.exp[n][k] = np.log(self.clusters['pi'][k]) - (self.clusters['logdet'][k] + np.dot(np.dot(diff.T, self.clusters['inv_cov'][k]), diff)\n",
        ")/2\n",
        "#                 self.exp[n][k] = np.log(self.clusters['pi'][k]) - (self.N * np.log(2 * np.pi) + self.clusters['logdet'][k] + np.dot(np.dot(diff.T, self.clusters['inv_cov'][k]), diff)\n",
        "# )/2\n",
        "        validate(exp_n_k = self.exp)\n",
        "        validate(clusters_pi = self.clusters['pi'])\n",
        "        validate(clusters_det = self.clusters['logdet'])\n",
        "\n",
        "        for n in range(self.N):\n",
        "            # self.check_power(self.exp[n])\n",
        "            self.exp[n] -= (np.max(self.exp[n]) - 700)\n",
        "            # print('\\nself.exp[n]',self.exp[n])\n",
        "            self.resp[n] = np.exp(self.exp[n], dtype=np.float64)\n",
        "            # print('self.resp[n]', self.resp[n])\n",
        "\n",
        "        validate(resp_n_k = self.resp)\n",
        "\n",
        "        '''EQUATION 11.53'''\n",
        "        for n in range(self.N):\n",
        "            resp_sum = np.sum(self.resp[n])\n",
        "            # print('resp_sum', resp_sum)\n",
        "            self.log_likelihood += np.log(resp_sum)\n",
        "            self.resp[n] = self.resp[n] / resp_sum\n",
        "\n",
        "\n",
        "\n",
        "    def maximization_step(self, X):\n",
        "        print('M step')\n",
        "\n",
        "        N_k = np.sum(self.resp, axis=0) # get class responsibility\n",
        "        print('N_k', N_k)\n",
        "        for k in range(self.n_clusters):\n",
        "            \n",
        "            '''EQUATION 11.56'''\n",
        "            # find pi for each cluster\n",
        "            self.clusters['pi'][k] = N_k[k] / self.N\n",
        "\n",
        "            '''EQUATION 11.54'''\n",
        "            # find new mean for each cluster\n",
        "            self.clusters['mu'][k] = np.matmul(self.resp[:, k], X) / N_k[k]\n",
        "\n",
        "            '''EQUATION 11.55''' \n",
        "            # find covariance matrix for each cluster\n",
        "            cov = np.zeros((self.n_features, self.n_features), dtype=np.float64)\n",
        "            for n in range(self.N):\n",
        "                v = X[n] - self.clusters['mu'][k]\n",
        "                cov += self.resp[n][k] * np.outer(v, v)\n",
        "            cov /= N_k[k]\n",
        "\n",
        "            self.clusters['cov'][k] = cov\n",
        "            # cov += np.random.rand(self.n_features, self.n_features) \n",
        "            dg = np.empty(self.n_features)\n",
        "            dg.fill(1e-6)\n",
        "            cov += np.diag(dg)\n",
        "            (sign, lgdet) = np.linalg.slogdet(cov)\n",
        "            self.clusters['logdet'][k] = sign * lgdet\n",
        "\n",
        "            if not self.clusters['logdet'][k]:\n",
        "                print(cov)\n",
        "                raise Exception('Determinant has zero ' + str(self.clusters['logdet'][k]))\n",
        "\n",
        "            try:\n",
        "                self.clusters['inv_cov'][k] = scipy.linalg.inv(cov)\n",
        "            except ValueError:\n",
        "                print()\n",
        "        # print('N_k', N_k)\n",
        "    \n",
        "\n",
        "    def sample(self, n_samples, cluster=None):\n",
        "        probs = np.cumsum(self.clusters['pi']) \n",
        "        def get_cluster(prob):\n",
        "            for i in range(self.n_clusters):\n",
        "                if prob <= probs[i]:\n",
        "                    return i\n",
        "        samples = []\n",
        "        unif = np.random.uniform(0,1,n_samples)\n",
        "        for n in range(n_samples):\n",
        "            k = get_cluster(unif[n])\n",
        "            samples.append(np.random.default_rng().multivariate_normal(self.clusters['mu'][k], self.clusters['cov'][k]))\n",
        "\n",
        "        return np.array(samples)\n",
        "\n",
        "    def fit(self, X, n_epochs):\n",
        "\n",
        "        self.N = X.shape[0]\n",
        "        for i in range(n_epochs):\n",
        "            self.expectation_step(X)\n",
        "            self.maximization_step(X)\n",
        "            print('Epoch: ', i + 1, 'log_likelihood: ', self.log_likelihood)\n",
        "            disp_resp(self.resp, self.n_clusters)\n",
        "\n",
        "        print('\\n\\nPI values', self.clusters['pi'])"
      ]
    },
    {
      "cell_type": "code",
      "source": [
        "NO_CLUSTERS = 3\n",
        "NO_EPOCHS = 3\n",
        "\n",
        "\n",
        "gmm = GMM(X.shape[1], NO_CLUSTERS)\n",
        "gmm.fit(X, NO_EPOCHS)\n"
      ],
      "metadata": {
        "colab": {
          "base_uri": "https://localhost:8080/",
          "height": 1000
        },
        "id": "t-khCwCGMmTd",
        "outputId": "a2ecc634-3397-4ca3-cb4a-bc603f85cc04"
      },
      "execution_count": null,
      "outputs": [
        {
          "output_type": "stream",
          "name": "stdout",
          "text": [
            "self.clusters[pi] [0.33333333 0.33333333 0.33333333]\n",
            "pi shape (3,)\n",
            "mu shape (3, 784)\n",
            "det shape (3,)\n",
            "inv_cov shape (3, 784, 784)\n",
            "E step\n",
            "M step\n",
            "N_k [861.91820179  40.07877126  98.00302694]\n",
            "Epoch:  1 log_likelihood:  700078.9776273178\n",
            "                  0             1             2\n",
            "count  1.000000e+03  1.000000e+03  1.000000e+03\n",
            "mean   8.619182e-01  4.007877e-02  9.800303e-02\n",
            "std    2.789631e-01  1.489409e-01  2.315153e-01\n",
            "min    3.447350e-07  2.612413e-13  1.575548e-11\n",
            "25%    9.252931e-01  7.936342e-06  7.466361e-05\n",
            "50%    9.965213e-01  1.396041e-04  1.612612e-03\n",
            "75%    9.998010e-01  2.653309e-03  3.122111e-02\n",
            "max    1.000000e+00  9.999965e-01  9.996833e-01\n"
          ]
        },
        {
          "output_type": "display_data",
          "data": {
            "text/plain": [
              "<Figure size 720x720 with 1 Axes>"
            ],
            "image/png": "[encoded data removed]"
          },
          "metadata": {
            "needs_background": "light"
          }
        },
        {
          "output_type": "stream",
          "name": "stdout",
          "text": [
            "E step\n",
            "M step\n",
            "N_k [676.99756923 141.99999999 181.00243079]\n",
            "Epoch:  2 log_likelihood:  700000.0024334737\n",
            "                 0            1              2\n",
            "count  1000.000000  1000.000000   1.000000e+03\n",
            "mean      0.676998     0.142000   1.810024e-01\n",
            "std       0.467855     0.349225   3.852097e-01\n",
            "min       0.000000     0.000000   0.000000e+00\n",
            "25%       0.000000     0.000000   0.000000e+00\n",
            "50%       1.000000     0.000000   0.000000e+00\n",
            "75%       1.000000     0.000000  4.173220e-307\n",
            "max       1.000000     1.000000   1.000000e+00\n"
          ]
        },
        {
          "output_type": "display_data",
          "data": {
            "text/plain": [
              "<Figure size 720x720 with 1 Axes>"
            ],
            "image/png": "[encoded data removed]"
          },
          "metadata": {
            "needs_background": "light"
          }
        },
        {
          "output_type": "stream",
          "name": "stdout",
          "text": [
            "E step\n",
            "M step\n",
            "N_k [677. 142. 181.]\n",
            "Epoch:  3 log_likelihood:  700000.0\n",
            "                 0            1            2\n",
            "count  1000.000000  1000.000000  1000.000000\n",
            "mean      0.677000     0.142000     0.181000\n",
            "std       0.467857     0.349225     0.385211\n",
            "min       0.000000     0.000000     0.000000\n",
            "25%       0.000000     0.000000     0.000000\n",
            "50%       1.000000     0.000000     0.000000\n",
            "75%       1.000000     0.000000     0.000000\n",
            "max       1.000000     1.000000     1.000000\n"
          ]
        },
        {
          "output_type": "display_data",
          "data": {
            "text/plain": [
              "<Figure size 720x720 with 1 Axes>"
            ],
            "image/png": "[encoded data removed]"
          },
          "metadata": {
            "needs_background": "light"
          }
        },
        {
          "output_type": "stream",
          "name": "stdout",
          "text": [
            "\n",
            "\n",
            "PI values [0.677 0.142 0.181]\n"
          ]
        }
      ]
    },
    {
      "cell_type": "code",
      "execution_count": null,
      "metadata": {
        "id": "0clrxaIQ2IRW",
        "colab": {
          "base_uri": "https://localhost:8080/"
        },
        "outputId": "fc415e0f-e53a-40f8-9810-442c09078af7"
      },
      "outputs": [
        {
          "output_type": "stream",
          "name": "stdout",
          "text": [
            "(1000, 784)\n"
          ]
        }
      ],
      "source": [
        "samples = gmm.sample(1000)\n",
        "print(samples.shape)"
      ]
    },
    {
      "cell_type": "code",
      "source": [
        "# norm_samples = samples[0]*255\n",
        "len(samples), len(samples[0])\n",
        "N = 5\n",
        "for i in range(N):\n",
        "  plt.imshow(samples[i].reshape(784, 1).reshape(28, 28),  cmap='gray')\n",
        "  plt.show()\n",
        "\n",
        "mu1, sigma1 = X.mean(axis=0), np.cov(X, rowvar=False)\n",
        "mu2, sigma2 = samples[0].mean(axis=0), np.cov(samples[0],  rowvar=False)\n",
        "# samples.clear\n",
        "\n",
        "\n",
        "\n",
        "from scipy import linalg\n",
        "\n",
        "def calculate_fid(mu1, sigma1, mu2, sigma2):\n",
        "    \n",
        "    # calculate sum squared difference between means\n",
        "    ssdiff = np.sum((mu1 - mu2)**2.0)\n",
        "\n",
        "    # calculate sqrt of product between cov\n",
        "    covmean = linalg.sqrtm(sigma1.dot(sigma2))\n",
        "\n",
        "    # check and correct imaginary numbers from sqrt\n",
        "    if np.iscomplexobj(covmean):\n",
        "       covmean = covmean.real\n",
        "\n",
        "    # calculate score\n",
        "    fid = ssdiff + np.trace(sigma1 + sigma2 - 2.0 * covmean)\n",
        "    return fid\n",
        "\n",
        "fid = calculate_fid(mu1, sigma1, mu2, sigma2)\n",
        "print(f'fid score: {fid}')"
      ],
      "metadata": {
        "colab": {
          "base_uri": "https://localhost:8080/",
          "height": 1000
        },
        "id": "EEOPIPUnN99V",
        "outputId": "9df60357-c74f-4768-de8c-3c61b629003c"
      },
      "execution_count": null,
      "outputs": [
        {
          "output_type": "display_data",
          "data": {
            "text/plain": [
              "<Figure size 432x288 with 1 Axes>"
            ],
            "image/png": "[encoded data removed]"
          },
          "metadata": {
            "needs_background": "light"
          }
        },
        {
          "output_type": "display_data",
          "data": {
            "text/plain": [
              "<Figure size 432x288 with 1 Axes>"
            ],
            "image/png": "[encoded data removed]"
          },
          "metadata": {
            "needs_background": "light"
          }
        },
        {
          "output_type": "display_data",
          "data": {
            "text/plain": [
              "<Figure size 432x288 with 1 Axes>"
            ],
            "image/png": "[encoded data removed]"
          },
          "metadata": {
            "needs_background": "light"
          }
        },
        {
          "output_type": "display_data",
          "data": {
            "text/plain": [
              "<Figure size 432x288 with 1 Axes>"
            ],
            "image/png": "[encoded data removed]"
          },
          "metadata": {
            "needs_background": "light"
          }
        },
        {
          "output_type": "display_data",
          "data": {
            "text/plain": [
              "<Figure size 432x288 with 1 Axes>"
            ],
            "image/png": "[encoded data removed]"
          },
          "metadata": {
            "needs_background": "light"
          }
        },
        {
          "output_type": "stream",
          "name": "stdout",
          "text": [
            "fid score: 42.453226962549195\n"
          ]
        }
      ]
    }
  ],
  "metadata": {
    "colab": {
      "name": "GMM_06_APRIL_newexp.ipynb",
      "provenance": [],
      "collapsed_sections": [],
      "mount_file_id": "140VO4FMaIP_dkSRblxs3C6oAWMB0u5bu",
      "authorship_tag": "ABX9TyMp7B3DXyT/T5C9Z3zYD7qB",
      "include_colab_link": true
    },
    "kernelspec": {
      "display_name": "Python 3",
      "name": "python3"
    },
    "language_info": {
      "name": "python"
    }
  },
  "nbformat": 4,
  "nbformat_minor": 0
}