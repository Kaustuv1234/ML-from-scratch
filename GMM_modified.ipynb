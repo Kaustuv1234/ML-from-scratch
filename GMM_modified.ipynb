{
  "nbformat": 4,
  "nbformat_minor": 0,
  "metadata": {
    "colab": {
      "name": "GMM_modified.ipynb",
      "provenance": [],
      "mount_file_id": "1ffCAI7WDm5CtZjBea2RUuhMz99riGUHr",
      "authorship_tag": "ABX9TyPzjNnKcZ8ISDKTYFTQ4vRX",
      "include_colab_link": true
    },
    "kernelspec": {
      "name": "python3",
      "display_name": "Python 3"
    },
    "language_info": {
      "name": "python"
    }
  },
  "cells": [
    {
      "cell_type": "markdown",
      "metadata": {
        "id": "view-in-github",
        "colab_type": "text"
      },
      "source": [
        "<a href=\"https://colab.research.google.com/github/apoorvrocks/Machine-Learning-Assignment-1/blob/main/GMM_modified.ipynb\" target=\"_parent\"><img src=\"https://colab.research.google.com/assets/colab-badge.svg\" alt=\"Open In Colab\"/></a>"
      ]
    },
    {
      "cell_type": "markdown",
      "source": [
        "\n",
        "\n",
        "1.   200 classes for training.\n",
        "2.   Each class has 500 images.\n",
        "3.   The test set contains 10,000 images.\n",
        "4.   All images are 64x64x3 colored ones.\n",
        "\n",
        "\n",
        "\n",
        "\n"
      ],
      "metadata": {
        "id": "DFF4dhxyLwLi"
      }
    },
    {
      "cell_type": "code",
      "source": [
        "from zipfile import ZipFile\n",
        "import os\n",
        "import random\n",
        "import numpy as np\n",
        "from skimage import color, io\n",
        "from skimage.transform import resize\n",
        "import matplotlib.pyplot as plt\n",
        "import gc\n",
        "from scipy.stats import multivariate_normal"
      ],
      "metadata": {
        "id": "1-2J5lb1vcYW"
      },
      "execution_count": 1,
      "outputs": []
    },
    {
      "cell_type": "markdown",
      "source": [
        "UNZIP DATA"
      ],
      "metadata": {
        "id": "LOuzjrhEtr07"
      }
    },
    {
      "cell_type": "code",
      "source": [
        "with ZipFile('/content/drive/MyDrive/IISc/PRNN/tiny-imagenet-200.zip', 'r') as zipObj:\n",
        "   zipObj.extractall()"
      ],
      "metadata": {
        "id": "rCmakPm5aoAJ"
      },
      "execution_count": 2,
      "outputs": []
    },
    {
      "cell_type": "markdown",
      "source": [
        "SET PATHS"
      ],
      "metadata": {
        "id": "bC7C8eELtwid"
      }
    },
    {
      "cell_type": "code",
      "source": [
        "test_path = '/content/tiny-imagenet-200/test'\n",
        "train_path = '/content/tiny-imagenet-200/train'\n",
        "validation_path = '/content/tiny-imagenet-200/val'"
      ],
      "metadata": {
        "id": "CWWBu1pgMqIQ"
      },
      "execution_count": 3,
      "outputs": []
    },
    {
      "cell_type": "code",
      "source": [
        "x = []\n",
        "NO_CLASSES = 10\n",
        "NO_IMAGES = 20\n",
        "class_folders = os.listdir(train_path)\n",
        "\n",
        "# loop over classes\n",
        "for class_folder in class_folders[:NO_CLASSES]: \n",
        "\n",
        "    image_folder_path = train_path + os.path.sep + class_folder + os.path.sep + 'images' + os.path.sep\n",
        "    image_file_names = os.listdir(image_folder_path)\n",
        "\n",
        "    # loop over images\n",
        "    for image_file_name in image_file_names[:NO_IMAGES]: # loop over all images in a class\n",
        "        img = io.imread(image_folder_path + image_file_name)\n",
        "        if len(img.shape) == 3:\n",
        "            imgGray = np.mean(img, axis=2)\n",
        "            img_resized = resize(imgGray, (28, 28))\n",
        "            flat_image = img_resized.flatten() \n",
        "            \n",
        "            x.append(flat_image)\n",
        "\n"
      ],
      "metadata": {
        "id": "lMJZ3BuEVtlh"
      },
      "execution_count": 4,
      "outputs": []
    },
    {
      "cell_type": "code",
      "source": [
        "def normalize_matrix(mat):\n",
        "  for c in range(len(mat[0])):\n",
        "    col = mat[:,c]\n",
        "    mn = min(col)\n",
        "    mx = max(col)\n",
        "    mat[:,c] = (col - mn)/(mx - mn)\n",
        "\n",
        "  return mat"
      ],
      "metadata": {
        "id": "uW2_aqt2iUcf"
      },
      "execution_count": 5,
      "outputs": []
    },
    {
      "cell_type": "code",
      "source": [
        "# X = normalize_matrix(np.array(x))\n",
        "# del x\n",
        "# gc.collect()\n",
        "# print(X.shape)\n",
        "X= np.array(x)"
      ],
      "metadata": {
        "id": "D-6zU0cojztj"
      },
      "execution_count": 6,
      "outputs": []
    },
    {
      "cell_type": "code",
      "source": [
        "X"
      ],
      "metadata": {
        "colab": {
          "base_uri": "https://localhost:8080/"
        },
        "id": "7iNOrPePcxfI",
        "outputId": "b2243922-0995-4ab6-8c59-daa4860f7e45"
      },
      "execution_count": 7,
      "outputs": [
        {
          "output_type": "execute_result",
          "data": {
            "text/plain": [
              "array([[ 89.71715456,  90.77363769,  92.01004037, ..., 124.28290969,\n",
              "        110.56004536,  98.95139386],\n",
              "       [107.22667016, 103.84486798, 106.44781894, ...,  62.41810633,\n",
              "         41.27900477,  25.02850709],\n",
              "       [239.        , 239.69277482, 240.46613078, ...,  10.52379452,\n",
              "         17.19889569,  18.21209894],\n",
              "       ...,\n",
              "       [ 40.23302864,  50.96676781, 115.93372679, ..., 105.38647025,\n",
              "         88.56831407,  85.05038104],\n",
              "       [241.06315372, 237.25124719, 240.3545158 , ...,  81.52925689,\n",
              "         72.09343204,  79.3475017 ],\n",
              "       [129.02399571, 130.35107447,  65.13915677, ..., 106.44872491,\n",
              "         77.06142671,  53.21392734]])"
            ]
          },
          "metadata": {},
          "execution_count": 7
        }
      ]
    },
    {
      "cell_type": "code",
      "source": [
        "class GMM:\n",
        "    def gaussian(self, X, mu, det, inv_cov):\n",
        "    \n",
        "        n = self.n_features\n",
        "        diff = X - mu.T\n",
        "        a = np.log(det)\n",
        "        b = n * np.log(2 * np.pi)\n",
        "        # print('diff', diff.shape)\n",
        "        # print('cov shape', cov.shape)\n",
        "\n",
        "        c = np.dot(np.dot(diff, inv_cov), diff.T)\n",
        "        # print('(',a,b,c,') ', end=' ')\n",
        "        # print('shapes', diff.shape, a.shape, b.shape, c.shape)\n",
        "        return np.exp(-0.5*(a+b+c))\n",
        "\n",
        "    def __init__(self, n_features, n_clusters):\n",
        "\n",
        "        self.clusters = {}\n",
        "        self.n_clusters = n_clusters\n",
        "        self.n_features = n_features\n",
        "\n",
        "        self.clusters['pi'] =( 1.0 / n_clusters) * np.ones(n_clusters, dtype=np.float64)\n",
        "        self.clusters['mu'] = np.random.rand(self.n_clusters, self.n_features)\n",
        "        cov = []\n",
        "\n",
        "        for i in range(n_clusters):\n",
        "            cov.append(np.eye(self.n_features)*0.9)\n",
        "        self.clusters['cov'] = np.array(cov)     \n",
        "        # self.clusters['cov'] = np.random.randint(1, 2, size=(n_clusters, n_features, n_features))  \n",
        "        print(self.clusters['pi'].shape)\n",
        "        print(self.clusters['mu'].shape)\n",
        "        print(self.clusters['cov'].shape)\n",
        "\n",
        "\n",
        "    def expectation_step(self, X):\n",
        "\n",
        "        # calculate responsibility for each data point, for each class\n",
        "        self.resp = np.empty((self.N, self.n_clusters), dtype=np.float64)\n",
        "        self.likelihood = 0\n",
        "        print('E step')\n",
        "\n",
        "        for k in range(self.n_clusters):\n",
        "            inv_cov = np.linalg.inv(self.clusters['cov'][k])\n",
        "            det = np.linalg.det(self.clusters['cov'][k])\n",
        "            print('det=', det)\n",
        "            for n, datapoint in enumerate(X):\n",
        "                # print(f'E step:\\tn:{n} k:{k}')\n",
        "                # prob = self.gaussian(datapoint, self.clusters['mu'][k], det, inv_cov)\n",
        "                prob = multivariate_normal.pdf(datapoint, mean = self.clusters['mu'][k], cov = self.clusters['cov'][k])\n",
        "                # print('probs',prob)\n",
        "                self.resp[n][k] = self.clusters['pi'][k] * prob\n",
        "\n",
        "            self.likelihood += np.log(self.resp[n][k])\n",
        "\n",
        "        for n in range(self.N):\n",
        "            # print('sum(resp)', np.sum(self.resp[n]))\n",
        "            self.resp[n] = self.resp[n] / np.sum(self.resp[n])\n",
        "\n",
        "\n",
        "\n",
        "\n",
        "    def maximization_step(self, X):\n",
        "        print('M step')\n",
        "        class_resp = np.sum(self.resp, axis=0) # get class responsibility\n",
        "        print('responsibility ',class_resp)\n",
        "        for k in range(self.n_clusters):\n",
        "            \n",
        "            # find pi for each cluster\n",
        "            self.clusters['pi'][k] = class_resp[k] / self.N\n",
        "\n",
        "            # find new mean for each cluster\n",
        "            mean = np.matmul(self.resp[:, k], X) / class_resp[k]\n",
        "            self.clusters['mu'][k] = mean\n",
        "\n",
        "\n",
        "            # find covariance matrix for each cluster\n",
        "            cov = np.zeros((self.n_features, self.n_features), dtype=np.float64)\n",
        "            for n in range(self.N):\n",
        "                v = X[n] - mean\n",
        "                cov += self.resp[n][k] * np.outer(v, v)\n",
        "            \n",
        "            cov /= class_resp[k]\n",
        "            self.clusters['cov'][k] = cov\n",
        "\n",
        "\n",
        "\n",
        "    def fit(self, X, n_epochs):\n",
        "\n",
        "        self.N = X.shape[0]\n",
        "\n",
        "        for i in range(n_epochs):\n",
        "        \n",
        "            self.expectation_step(X)\n",
        "            self.maximization_step(X)\n",
        "\n",
        "\n",
        "            print('Epoch: ', i + 1, 'Likelihood: ', self.likelihood)\n",
        "            \n",
        "        # for i, cluster in enumerate(clusters):\n",
        "        #     scores[:, i] = np.log(cluster['gamma_nk']).reshape(-1)\n",
        "            \n",
        "        # return clusters, likelihoods, scores, sample_likelihoods\n",
        "\n",
        "\n",
        "\n",
        "NO_CLUSTERS = 2\n",
        "NO_EPOCHS = 5\n",
        "\n",
        "gmm = GMM(X.shape[1], NO_CLUSTERS)\n",
        "gmm.fit(X, NO_EPOCHS)\n"
      ],
      "metadata": {
        "id": "QuP-0TiosR-P",
        "colab": {
          "base_uri": "https://localhost:8080/",
          "height": 606
        },
        "outputId": "fd0dfa41-df05-440b-e863-1ebb62bf17ab"
      },
      "execution_count": 10,
      "outputs": [
        {
          "output_type": "stream",
          "name": "stdout",
          "text": [
            "(2,)\n",
            "(2, 784)\n",
            "(2, 784, 784)\n",
            "E step\n",
            "det= 1.3369876648018035e-36\n"
          ]
        },
        {
          "output_type": "stream",
          "name": "stderr",
          "text": [
            "/usr/local/lib/python3.7/dist-packages/ipykernel_launcher.py:53: RuntimeWarning: divide by zero encountered in log\n"
          ]
        },
        {
          "output_type": "stream",
          "name": "stdout",
          "text": [
            "det= 1.3369876648018035e-36\n"
          ]
        },
        {
          "output_type": "stream",
          "name": "stderr",
          "text": [
            "/usr/local/lib/python3.7/dist-packages/ipykernel_launcher.py:57: RuntimeWarning: invalid value encountered in true_divide\n"
          ]
        },
        {
          "output_type": "stream",
          "name": "stdout",
          "text": [
            "M step\n",
            "responsibility  [nan nan]\n",
            "Epoch:  1 Likelihood:  -inf\n",
            "E step\n",
            "det= nan\n"
          ]
        },
        {
          "output_type": "stream",
          "name": "stderr",
          "text": [
            "/usr/local/lib/python3.7/dist-packages/numpy/linalg/linalg.py:2158: RuntimeWarning: invalid value encountered in det\n",
            "  r = _umath_linalg.det(a, signature=signature)\n"
          ]
        },
        {
          "output_type": "error",
          "ename": "ValueError",
          "evalue": "ignored",
          "traceback": [
            "\u001b[0;31m---------------------------------------------------------------------------\u001b[0m",
            "\u001b[0;31mValueError\u001b[0m                                Traceback (most recent call last)",
            "\u001b[0;32m<ipython-input-10-15958f963d8d>\u001b[0m in \u001b[0;36m<module>\u001b[0;34m()\u001b[0m\n\u001b[1;32m    108\u001b[0m \u001b[0;34m\u001b[0m\u001b[0m\n\u001b[1;32m    109\u001b[0m \u001b[0mgmm\u001b[0m \u001b[0;34m=\u001b[0m \u001b[0mGMM\u001b[0m\u001b[0;34m(\u001b[0m\u001b[0mX\u001b[0m\u001b[0;34m.\u001b[0m\u001b[0mshape\u001b[0m\u001b[0;34m[\u001b[0m\u001b[0;36m1\u001b[0m\u001b[0;34m]\u001b[0m\u001b[0;34m,\u001b[0m \u001b[0mNO_CLUSTERS\u001b[0m\u001b[0;34m)\u001b[0m\u001b[0;34m\u001b[0m\u001b[0;34m\u001b[0m\u001b[0m\n\u001b[0;32m--> 110\u001b[0;31m \u001b[0mgmm\u001b[0m\u001b[0;34m.\u001b[0m\u001b[0mfit\u001b[0m\u001b[0;34m(\u001b[0m\u001b[0mX\u001b[0m\u001b[0;34m,\u001b[0m \u001b[0mNO_EPOCHS\u001b[0m\u001b[0;34m)\u001b[0m\u001b[0;34m\u001b[0m\u001b[0;34m\u001b[0m\u001b[0m\n\u001b[0m",
            "\u001b[0;32m<ipython-input-10-15958f963d8d>\u001b[0m in \u001b[0;36mfit\u001b[0;34m(self, X, n_epochs)\u001b[0m\n\u001b[1;32m     91\u001b[0m         \u001b[0;32mfor\u001b[0m \u001b[0mi\u001b[0m \u001b[0;32min\u001b[0m \u001b[0mrange\u001b[0m\u001b[0;34m(\u001b[0m\u001b[0mn_epochs\u001b[0m\u001b[0;34m)\u001b[0m\u001b[0;34m:\u001b[0m\u001b[0;34m\u001b[0m\u001b[0;34m\u001b[0m\u001b[0m\n\u001b[1;32m     92\u001b[0m \u001b[0;34m\u001b[0m\u001b[0m\n\u001b[0;32m---> 93\u001b[0;31m             \u001b[0mself\u001b[0m\u001b[0;34m.\u001b[0m\u001b[0mexpectation_step\u001b[0m\u001b[0;34m(\u001b[0m\u001b[0mX\u001b[0m\u001b[0;34m)\u001b[0m\u001b[0;34m\u001b[0m\u001b[0;34m\u001b[0m\u001b[0m\n\u001b[0m\u001b[1;32m     94\u001b[0m             \u001b[0mself\u001b[0m\u001b[0;34m.\u001b[0m\u001b[0mmaximization_step\u001b[0m\u001b[0;34m(\u001b[0m\u001b[0mX\u001b[0m\u001b[0;34m)\u001b[0m\u001b[0;34m\u001b[0m\u001b[0;34m\u001b[0m\u001b[0m\n\u001b[1;32m     95\u001b[0m \u001b[0;34m\u001b[0m\u001b[0m\n",
            "\u001b[0;32m<ipython-input-10-15958f963d8d>\u001b[0m in \u001b[0;36mexpectation_step\u001b[0;34m(self, X)\u001b[0m\n\u001b[1;32m     47\u001b[0m                 \u001b[0;31m# print(f'E step:\\tn:{n} k:{k}')\u001b[0m\u001b[0;34m\u001b[0m\u001b[0;34m\u001b[0m\u001b[0;34m\u001b[0m\u001b[0m\n\u001b[1;32m     48\u001b[0m                 \u001b[0;31m# prob = self.gaussian(datapoint, self.clusters['mu'][k], det, inv_cov)\u001b[0m\u001b[0;34m\u001b[0m\u001b[0;34m\u001b[0m\u001b[0;34m\u001b[0m\u001b[0m\n\u001b[0;32m---> 49\u001b[0;31m                 \u001b[0mprob\u001b[0m \u001b[0;34m=\u001b[0m \u001b[0mmultivariate_normal\u001b[0m\u001b[0;34m.\u001b[0m\u001b[0mpdf\u001b[0m\u001b[0;34m(\u001b[0m\u001b[0mdatapoint\u001b[0m\u001b[0;34m,\u001b[0m \u001b[0mmean\u001b[0m \u001b[0;34m=\u001b[0m \u001b[0mself\u001b[0m\u001b[0;34m.\u001b[0m\u001b[0mclusters\u001b[0m\u001b[0;34m[\u001b[0m\u001b[0;34m'mu'\u001b[0m\u001b[0;34m]\u001b[0m\u001b[0;34m[\u001b[0m\u001b[0mk\u001b[0m\u001b[0;34m]\u001b[0m\u001b[0;34m,\u001b[0m \u001b[0mcov\u001b[0m \u001b[0;34m=\u001b[0m \u001b[0mself\u001b[0m\u001b[0;34m.\u001b[0m\u001b[0mclusters\u001b[0m\u001b[0;34m[\u001b[0m\u001b[0;34m'cov'\u001b[0m\u001b[0;34m]\u001b[0m\u001b[0;34m[\u001b[0m\u001b[0mk\u001b[0m\u001b[0;34m]\u001b[0m\u001b[0;34m)\u001b[0m\u001b[0;34m\u001b[0m\u001b[0;34m\u001b[0m\u001b[0m\n\u001b[0m\u001b[1;32m     50\u001b[0m                 \u001b[0;31m# print('probs',prob)\u001b[0m\u001b[0;34m\u001b[0m\u001b[0;34m\u001b[0m\u001b[0;34m\u001b[0m\u001b[0m\n\u001b[1;32m     51\u001b[0m                 \u001b[0mself\u001b[0m\u001b[0;34m.\u001b[0m\u001b[0mresp\u001b[0m\u001b[0;34m[\u001b[0m\u001b[0mn\u001b[0m\u001b[0;34m]\u001b[0m\u001b[0;34m[\u001b[0m\u001b[0mk\u001b[0m\u001b[0;34m]\u001b[0m \u001b[0;34m=\u001b[0m \u001b[0mself\u001b[0m\u001b[0;34m.\u001b[0m\u001b[0mclusters\u001b[0m\u001b[0;34m[\u001b[0m\u001b[0;34m'pi'\u001b[0m\u001b[0;34m]\u001b[0m\u001b[0;34m[\u001b[0m\u001b[0mk\u001b[0m\u001b[0;34m]\u001b[0m \u001b[0;34m*\u001b[0m \u001b[0mprob\u001b[0m\u001b[0;34m\u001b[0m\u001b[0;34m\u001b[0m\u001b[0m\n",
            "\u001b[0;32m/usr/local/lib/python3.7/dist-packages/scipy/stats/_multivariate.py\u001b[0m in \u001b[0;36mpdf\u001b[0;34m(self, x, mean, cov, allow_singular)\u001b[0m\n\u001b[1;32m    519\u001b[0m         \u001b[0mdim\u001b[0m\u001b[0;34m,\u001b[0m \u001b[0mmean\u001b[0m\u001b[0;34m,\u001b[0m \u001b[0mcov\u001b[0m \u001b[0;34m=\u001b[0m \u001b[0mself\u001b[0m\u001b[0;34m.\u001b[0m\u001b[0m_process_parameters\u001b[0m\u001b[0;34m(\u001b[0m\u001b[0;32mNone\u001b[0m\u001b[0;34m,\u001b[0m \u001b[0mmean\u001b[0m\u001b[0;34m,\u001b[0m \u001b[0mcov\u001b[0m\u001b[0;34m)\u001b[0m\u001b[0;34m\u001b[0m\u001b[0;34m\u001b[0m\u001b[0m\n\u001b[1;32m    520\u001b[0m         \u001b[0mx\u001b[0m \u001b[0;34m=\u001b[0m \u001b[0mself\u001b[0m\u001b[0;34m.\u001b[0m\u001b[0m_process_quantiles\u001b[0m\u001b[0;34m(\u001b[0m\u001b[0mx\u001b[0m\u001b[0;34m,\u001b[0m \u001b[0mdim\u001b[0m\u001b[0;34m)\u001b[0m\u001b[0;34m\u001b[0m\u001b[0;34m\u001b[0m\u001b[0m\n\u001b[0;32m--> 521\u001b[0;31m         \u001b[0mpsd\u001b[0m \u001b[0;34m=\u001b[0m \u001b[0m_PSD\u001b[0m\u001b[0;34m(\u001b[0m\u001b[0mcov\u001b[0m\u001b[0;34m,\u001b[0m \u001b[0mallow_singular\u001b[0m\u001b[0;34m=\u001b[0m\u001b[0mallow_singular\u001b[0m\u001b[0;34m)\u001b[0m\u001b[0;34m\u001b[0m\u001b[0;34m\u001b[0m\u001b[0m\n\u001b[0m\u001b[1;32m    522\u001b[0m         \u001b[0mout\u001b[0m \u001b[0;34m=\u001b[0m \u001b[0mnp\u001b[0m\u001b[0;34m.\u001b[0m\u001b[0mexp\u001b[0m\u001b[0;34m(\u001b[0m\u001b[0mself\u001b[0m\u001b[0;34m.\u001b[0m\u001b[0m_logpdf\u001b[0m\u001b[0;34m(\u001b[0m\u001b[0mx\u001b[0m\u001b[0;34m,\u001b[0m \u001b[0mmean\u001b[0m\u001b[0;34m,\u001b[0m \u001b[0mpsd\u001b[0m\u001b[0;34m.\u001b[0m\u001b[0mU\u001b[0m\u001b[0;34m,\u001b[0m \u001b[0mpsd\u001b[0m\u001b[0;34m.\u001b[0m\u001b[0mlog_pdet\u001b[0m\u001b[0;34m,\u001b[0m \u001b[0mpsd\u001b[0m\u001b[0;34m.\u001b[0m\u001b[0mrank\u001b[0m\u001b[0;34m)\u001b[0m\u001b[0;34m)\u001b[0m\u001b[0;34m\u001b[0m\u001b[0;34m\u001b[0m\u001b[0m\n\u001b[1;32m    523\u001b[0m         \u001b[0;32mreturn\u001b[0m \u001b[0m_squeeze_output\u001b[0m\u001b[0;34m(\u001b[0m\u001b[0mout\u001b[0m\u001b[0;34m)\u001b[0m\u001b[0;34m\u001b[0m\u001b[0;34m\u001b[0m\u001b[0m\n",
            "\u001b[0;32m/usr/local/lib/python3.7/dist-packages/scipy/stats/_multivariate.py\u001b[0m in \u001b[0;36m__init__\u001b[0;34m(self, M, cond, rcond, lower, check_finite, allow_singular)\u001b[0m\n\u001b[1;32m    154\u001b[0m         \u001b[0;31m# Note that eigh takes care of array conversion, chkfinite,\u001b[0m\u001b[0;34m\u001b[0m\u001b[0;34m\u001b[0m\u001b[0;34m\u001b[0m\u001b[0m\n\u001b[1;32m    155\u001b[0m         \u001b[0;31m# and assertion that the matrix is square.\u001b[0m\u001b[0;34m\u001b[0m\u001b[0;34m\u001b[0m\u001b[0;34m\u001b[0m\u001b[0m\n\u001b[0;32m--> 156\u001b[0;31m         \u001b[0ms\u001b[0m\u001b[0;34m,\u001b[0m \u001b[0mu\u001b[0m \u001b[0;34m=\u001b[0m \u001b[0mscipy\u001b[0m\u001b[0;34m.\u001b[0m\u001b[0mlinalg\u001b[0m\u001b[0;34m.\u001b[0m\u001b[0meigh\u001b[0m\u001b[0;34m(\u001b[0m\u001b[0mM\u001b[0m\u001b[0;34m,\u001b[0m \u001b[0mlower\u001b[0m\u001b[0;34m=\u001b[0m\u001b[0mlower\u001b[0m\u001b[0;34m,\u001b[0m \u001b[0mcheck_finite\u001b[0m\u001b[0;34m=\u001b[0m\u001b[0mcheck_finite\u001b[0m\u001b[0;34m)\u001b[0m\u001b[0;34m\u001b[0m\u001b[0;34m\u001b[0m\u001b[0m\n\u001b[0m\u001b[1;32m    157\u001b[0m \u001b[0;34m\u001b[0m\u001b[0m\n\u001b[1;32m    158\u001b[0m         \u001b[0meps\u001b[0m \u001b[0;34m=\u001b[0m \u001b[0m_eigvalsh_to_eps\u001b[0m\u001b[0;34m(\u001b[0m\u001b[0ms\u001b[0m\u001b[0;34m,\u001b[0m \u001b[0mcond\u001b[0m\u001b[0;34m,\u001b[0m \u001b[0mrcond\u001b[0m\u001b[0;34m)\u001b[0m\u001b[0;34m\u001b[0m\u001b[0;34m\u001b[0m\u001b[0m\n",
            "\u001b[0;32m/usr/local/lib/python3.7/dist-packages/scipy/linalg/decomp.py\u001b[0m in \u001b[0;36meigh\u001b[0;34m(a, b, lower, eigvals_only, overwrite_a, overwrite_b, turbo, eigvals, type, check_finite)\u001b[0m\n\u001b[1;32m    372\u001b[0m \u001b[0;34m\u001b[0m\u001b[0m\n\u001b[1;32m    373\u001b[0m     \"\"\"\n\u001b[0;32m--> 374\u001b[0;31m     \u001b[0ma1\u001b[0m \u001b[0;34m=\u001b[0m \u001b[0m_asarray_validated\u001b[0m\u001b[0;34m(\u001b[0m\u001b[0ma\u001b[0m\u001b[0;34m,\u001b[0m \u001b[0mcheck_finite\u001b[0m\u001b[0;34m=\u001b[0m\u001b[0mcheck_finite\u001b[0m\u001b[0;34m)\u001b[0m\u001b[0;34m\u001b[0m\u001b[0;34m\u001b[0m\u001b[0m\n\u001b[0m\u001b[1;32m    375\u001b[0m     \u001b[0;32mif\u001b[0m \u001b[0mlen\u001b[0m\u001b[0;34m(\u001b[0m\u001b[0ma1\u001b[0m\u001b[0;34m.\u001b[0m\u001b[0mshape\u001b[0m\u001b[0;34m)\u001b[0m \u001b[0;34m!=\u001b[0m \u001b[0;36m2\u001b[0m \u001b[0;32mor\u001b[0m \u001b[0ma1\u001b[0m\u001b[0;34m.\u001b[0m\u001b[0mshape\u001b[0m\u001b[0;34m[\u001b[0m\u001b[0;36m0\u001b[0m\u001b[0;34m]\u001b[0m \u001b[0;34m!=\u001b[0m \u001b[0ma1\u001b[0m\u001b[0;34m.\u001b[0m\u001b[0mshape\u001b[0m\u001b[0;34m[\u001b[0m\u001b[0;36m1\u001b[0m\u001b[0;34m]\u001b[0m\u001b[0;34m:\u001b[0m\u001b[0;34m\u001b[0m\u001b[0;34m\u001b[0m\u001b[0m\n\u001b[1;32m    376\u001b[0m         \u001b[0;32mraise\u001b[0m \u001b[0mValueError\u001b[0m\u001b[0;34m(\u001b[0m\u001b[0;34m'expected square matrix'\u001b[0m\u001b[0;34m)\u001b[0m\u001b[0;34m\u001b[0m\u001b[0;34m\u001b[0m\u001b[0m\n",
            "\u001b[0;32m/usr/local/lib/python3.7/dist-packages/scipy/_lib/_util.py\u001b[0m in \u001b[0;36m_asarray_validated\u001b[0;34m(a, check_finite, sparse_ok, objects_ok, mask_ok, as_inexact)\u001b[0m\n\u001b[1;32m    244\u001b[0m             \u001b[0;32mraise\u001b[0m \u001b[0mValueError\u001b[0m\u001b[0;34m(\u001b[0m\u001b[0;34m'masked arrays are not supported'\u001b[0m\u001b[0;34m)\u001b[0m\u001b[0;34m\u001b[0m\u001b[0;34m\u001b[0m\u001b[0m\n\u001b[1;32m    245\u001b[0m     \u001b[0mtoarray\u001b[0m \u001b[0;34m=\u001b[0m \u001b[0mnp\u001b[0m\u001b[0;34m.\u001b[0m\u001b[0masarray_chkfinite\u001b[0m \u001b[0;32mif\u001b[0m \u001b[0mcheck_finite\u001b[0m \u001b[0;32melse\u001b[0m \u001b[0mnp\u001b[0m\u001b[0;34m.\u001b[0m\u001b[0masarray\u001b[0m\u001b[0;34m\u001b[0m\u001b[0;34m\u001b[0m\u001b[0m\n\u001b[0;32m--> 246\u001b[0;31m     \u001b[0ma\u001b[0m \u001b[0;34m=\u001b[0m \u001b[0mtoarray\u001b[0m\u001b[0;34m(\u001b[0m\u001b[0ma\u001b[0m\u001b[0;34m)\u001b[0m\u001b[0;34m\u001b[0m\u001b[0;34m\u001b[0m\u001b[0m\n\u001b[0m\u001b[1;32m    247\u001b[0m     \u001b[0;32mif\u001b[0m \u001b[0;32mnot\u001b[0m \u001b[0mobjects_ok\u001b[0m\u001b[0;34m:\u001b[0m\u001b[0;34m\u001b[0m\u001b[0;34m\u001b[0m\u001b[0m\n\u001b[1;32m    248\u001b[0m         \u001b[0;32mif\u001b[0m \u001b[0ma\u001b[0m\u001b[0;34m.\u001b[0m\u001b[0mdtype\u001b[0m \u001b[0;32mis\u001b[0m \u001b[0mnp\u001b[0m\u001b[0;34m.\u001b[0m\u001b[0mdtype\u001b[0m\u001b[0;34m(\u001b[0m\u001b[0;34m'O'\u001b[0m\u001b[0;34m)\u001b[0m\u001b[0;34m:\u001b[0m\u001b[0;34m\u001b[0m\u001b[0;34m\u001b[0m\u001b[0m\n",
            "\u001b[0;32m/usr/local/lib/python3.7/dist-packages/numpy/lib/function_base.py\u001b[0m in \u001b[0;36masarray_chkfinite\u001b[0;34m(a, dtype, order)\u001b[0m\n\u001b[1;32m    487\u001b[0m     \u001b[0;32mif\u001b[0m \u001b[0ma\u001b[0m\u001b[0;34m.\u001b[0m\u001b[0mdtype\u001b[0m\u001b[0;34m.\u001b[0m\u001b[0mchar\u001b[0m \u001b[0;32min\u001b[0m \u001b[0mtypecodes\u001b[0m\u001b[0;34m[\u001b[0m\u001b[0;34m'AllFloat'\u001b[0m\u001b[0;34m]\u001b[0m \u001b[0;32mand\u001b[0m \u001b[0;32mnot\u001b[0m \u001b[0mnp\u001b[0m\u001b[0;34m.\u001b[0m\u001b[0misfinite\u001b[0m\u001b[0;34m(\u001b[0m\u001b[0ma\u001b[0m\u001b[0;34m)\u001b[0m\u001b[0;34m.\u001b[0m\u001b[0mall\u001b[0m\u001b[0;34m(\u001b[0m\u001b[0;34m)\u001b[0m\u001b[0;34m:\u001b[0m\u001b[0;34m\u001b[0m\u001b[0;34m\u001b[0m\u001b[0m\n\u001b[1;32m    488\u001b[0m         raise ValueError(\n\u001b[0;32m--> 489\u001b[0;31m             \"array must not contain infs or NaNs\")\n\u001b[0m\u001b[1;32m    490\u001b[0m     \u001b[0;32mreturn\u001b[0m \u001b[0ma\u001b[0m\u001b[0;34m\u001b[0m\u001b[0;34m\u001b[0m\u001b[0m\n\u001b[1;32m    491\u001b[0m \u001b[0;34m\u001b[0m\u001b[0m\n",
            "\u001b[0;31mValueError\u001b[0m: array must not contain infs or NaNs"
          ]
        }
      ]
    },
    {
      "cell_type": "code",
      "source": [
        ""
      ],
      "metadata": {
        "id": "cQaGdsHGWXKA"
      },
      "execution_count": null,
      "outputs": []
    }
  ]
}