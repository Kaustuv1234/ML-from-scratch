{
 "cells": [
  {
   "cell_type": "code",
   "execution_count": 9,
   "id": "342d3889",
   "metadata": {},
   "outputs": [],
   "source": [
    "import numpy as np"
   ]
  },
  {
   "cell_type": "code",
   "execution_count": 10,
   "id": "b31309fc",
   "metadata": {},
   "outputs": [],
   "source": [
    "def log_likelihood(X, mu, cov):\n",
    "    \n",
    "    X = X.reshape((-1,1))\n",
    "    n = X.shape[0]\n",
    "    diff = X - mu\n",
    "    return 0.5*np.log((np.linalg.det(cov1)))  -0.5 * np.dot(np.dot(diff0.T, np.linalg.inv(cov0)), diff)"
   ]
  },
  {
   "cell_type": "code",
   "execution_count": 11,
   "id": "85e72c6e",
   "metadata": {},
   "outputs": [],
   "source": [
    "def ML_estimate(X):\n",
    "    \n",
    "    n_features = X.shape[0]\n",
    "    mu = np.zeros((n_features,1))\n",
    "    cov = np.dot((X - mu),(X-mu).T)/X.shape[1]\n",
    "    print(cov.shape)\n",
    "    \n",
    "    return mu,cov"
   ]
  },
  {
   "cell_type": "code",
   "execution_count": 12,
   "id": "04c55c67",
   "metadata": {},
   "outputs": [],
   "source": [
    "def pred_ML_estimate(x_test,mu0,cov0,mu1,cov1):\n",
    "    \n",
    "    prediction = [0 if log_likelihood(x_test[i],mu0,cov0) > log_likelihood(x_test[i],mu1,cov1) else 1 for i in range(x_test.shape[0])]\n",
    "    \n",
    "    return prediction\n",
    "    "
   ]
  },
  {
   "cell_type": "code",
   "execution_count": null,
   "id": "d44fe3c1",
   "metadata": {},
   "outputs": [],
   "source": []
  },
  {
   "cell_type": "code",
   "execution_count": null,
   "id": "0eef54ab",
   "metadata": {},
   "outputs": [],
   "source": []
  }
 ],
 "metadata": {
  "kernelspec": {
   "display_name": "venv_name",
   "language": "python",
   "name": "venv_name"
  },
  "language_info": {
   "codemirror_mode": {
    "name": "ipython",
    "version": 3
   },
   "file_extension": ".py",
   "mimetype": "text/x-python",
   "name": "python",
   "nbconvert_exporter": "python",
   "pygments_lexer": "ipython3",
   "version": "3.9.7"
  },
  "toc": {
   "base_numbering": 1,
   "nav_menu": {},
   "number_sections": true,
   "sideBar": true,
   "skip_h1_title": false,
   "title_cell": "Table of Contents",
   "title_sidebar": "Contents",
   "toc_cell": false,
   "toc_position": {},
   "toc_section_display": true,
   "toc_window_display": false
  },
  "varInspector": {
   "cols": {
    "lenName": 16,
    "lenType": 16,
    "lenVar": 40
   },
   "kernels_config": {
    "python": {
     "delete_cmd_postfix": "",
     "delete_cmd_prefix": "del ",
     "library": "var_list.py",
     "varRefreshCmd": "print(var_dic_list())"
    },
    "r": {
     "delete_cmd_postfix": ") ",
     "delete_cmd_prefix": "rm(",
     "library": "var_list.r",
     "varRefreshCmd": "cat(var_dic_list()) "
    }
   },
   "types_to_exclude": [
    "module",
    "function",
    "builtin_function_or_method",
    "instance",
    "_Feature"
   ],
   "window_display": false
  }
 },
 "nbformat": 4,
 "nbformat_minor": 5
}
