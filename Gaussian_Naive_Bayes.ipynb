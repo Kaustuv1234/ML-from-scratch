{
 "cells": [
  {
   "cell_type": "code",
   "execution_count": 22,
   "id": "2e26d31f",
   "metadata": {},
   "outputs": [],
   "source": [
    "import numpy as np"
   ]
  },
  {
   "cell_type": "code",
   "execution_count": 23,
   "id": "75b33702",
   "metadata": {},
   "outputs": [],
   "source": [
    "def gaussian(X, mu, var):\n",
    "\n",
    "    return 1 / ((2 * np.pi) ** (1 / 2) * var ** 0.5) * np.exp(-0.5 * (X-mu)**2/var)"
   ]
  },
  {
   "cell_type": "code",
   "execution_count": 24,
   "id": "c00114e6",
   "metadata": {},
   "outputs": [],
   "source": [
    "class Gaussian_Naive_Bayes():\n",
    "    def __init__(self,mean,variance):\n",
    "        \n",
    "        self.mean = mean\n",
    "        self.variance = variance\n",
    "\n",
    "    \n",
    "    def fit(self,class0,class1):\n",
    "    \n",
    "        \n",
    "        self.mean[0] = np.mean(class0,axis = 0)\n",
    "        self.mean[1]= np.mean(class1,axis=0)\n",
    "        diff0 = class0 - self.mean[0]\n",
    "        diff1 = class1 - self.mean[1]\n",
    "        self.variance[0] = np.mean(np.square(diff0),axis = 0)\n",
    "        self.variance[1] = np.mean(np.square(diff1),axis = 0)\n",
    "        \n",
    "    \n",
    "    def predict(self,x_test):\n",
    "        \n",
    "        likelihood0 = gaussian(x_test,self.mean[0],self.variance[0])\n",
    "        likelihood1 = gaussian(x_test,self.mean[1],self.variance[1])\n",
    "        log_likelihood0 = np.sum(np.log(likelihood0),axis = 1)\n",
    "        log_likelihood1 = np.sum(np.log(likelihood1),axis = 1)\n",
    "        \n",
    "        pred = [0 if log_likelihood0[i] > log_likelihood1[i] else 1 for i in range(x_test.shape[0]) ]\n",
    "        \n",
    "        return np.array(pred)\n",
    "                \n",
    "    def accuracy(self,pred,actual):\n",
    "        n_correct_preds = 0\n",
    "        for i in range(actual.shape[0]):\n",
    "            if pred[i] == actual[i]:\n",
    "                n_correct_preds += 1\n",
    "        accuracy = n_correct_preds/actual.shape[0]\n",
    "        return accuracy"
   ]
  },
  {
   "cell_type": "code",
   "execution_count": 25,
   "id": "4f017266",
   "metadata": {},
   "outputs": [
    {
     "name": "stdout",
     "output_type": "stream",
     "text": [
      "accuracy = 0.8333333333333334\n"
     ]
    }
   ],
   "source": [
    "if __name__ == \"__main__\":\n",
    "    \n",
    "    data = np.load('pneumoniamnist.npz')\n",
    "    lst = data.files\n",
    "    x_train = data['train_images'].reshape(data['train_images'].shape[0],-1)\n",
    "    x_test = data['test_images'].reshape(data['test_images'].shape[0],-1)\n",
    "    x_val = data['val_images'].reshape(data['val_images'].shape[0],-1)\n",
    "    y_train = data['train_labels']\n",
    "    y_test = data['test_labels']\n",
    "    y_val = data['val_labels']\n",
    "    n_features = x_train.shape[0]\n",
    "\n",
    "    x0 = [x_train[i] for i in range(len(x_train)) if y_train[i]==0]\n",
    "    x1 = [x_train[i] for i in range(len(x_train)) if y_train[i]==1]\n",
    "    x0 = np.array(x0) ## data of class0\n",
    "    x1 = np.array(x1)  ## data of class 1\n",
    "    #print(np.shape(x0))\n",
    "    #print(x_test.shape)\n",
    "    \n",
    "    clf = Gaussian_Naive_Bayes(np.zeros((2,x0.shape[1])),np.zeros((2,x0.shape[1])))\n",
    "    clf.fit(x0,x1)\n",
    "    y_pred = clf.predict(x_test)\n",
    "    accuracy = clf.accuracy(y_pred,y_test)\n",
    "    print(f'accuracy = {accuracy}')"
   ]
  },
  {
   "cell_type": "code",
   "execution_count": null,
   "id": "7caef6ca",
   "metadata": {},
   "outputs": [],
   "source": []
  }
 ],
 "metadata": {
  "kernelspec": {
   "display_name": "Python 3 (ipykernel)",
   "language": "python",
   "name": "python3"
  },
  "language_info": {
   "codemirror_mode": {
    "name": "ipython",
    "version": 3
   },
   "file_extension": ".py",
   "mimetype": "text/x-python",
   "name": "python",
   "nbconvert_exporter": "python",
   "pygments_lexer": "ipython3",
   "version": "3.9.7"
  },
  "toc": {
   "base_numbering": 1,
   "nav_menu": {},
   "number_sections": true,
   "sideBar": true,
   "skip_h1_title": false,
   "title_cell": "Table of Contents",
   "title_sidebar": "Contents",
   "toc_cell": false,
   "toc_position": {},
   "toc_section_display": true,
   "toc_window_display": false
  },
  "varInspector": {
   "cols": {
    "lenName": 16,
    "lenType": 16,
    "lenVar": 40
   },
   "kernels_config": {
    "python": {
     "delete_cmd_postfix": "",
     "delete_cmd_prefix": "del ",
     "library": "var_list.py",
     "varRefreshCmd": "print(var_dic_list())"
    },
    "r": {
     "delete_cmd_postfix": ") ",
     "delete_cmd_prefix": "rm(",
     "library": "var_list.r",
     "varRefreshCmd": "cat(var_dic_list()) "
    }
   },
   "types_to_exclude": [
    "module",
    "function",
    "builtin_function_or_method",
    "instance",
    "_Feature"
   ],
   "window_display": false
  }
 },
 "nbformat": 4,
 "nbformat_minor": 5
}
