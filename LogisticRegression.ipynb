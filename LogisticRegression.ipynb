{
 "cells": [
  {
   "cell_type": "code",
   "execution_count": 5,
   "id": "90c43eb5",
   "metadata": {},
   "outputs": [],
   "source": [
    "import numpy as np\n",
    "import math\n",
    "\n",
    "\n",
    "class LogisticRegression():\n",
    "\n",
    "    def __init__(self, learning_rate=.1):\n",
    "        self.param = None\n",
    "        self.learning_rate = learning_rate\n",
    "\n",
    "\n",
    "    def initialize_parameters(self, X):\n",
    "        n_features = np.shape(X)[1]\n",
    "        bound = 1 / math.sqrt(n_features)\n",
    "        self.param = np.random.uniform(-bound, bound, (n_features,1))\n",
    "    \n",
    "    def sigmoid(self,x):\n",
    "        return 1/(1+np.exp(-x))\n",
    "\n",
    "    def fit(self, X, y, n_iterations=4000):\n",
    "        self.initialize_parameters(X)\n",
    "        for i in range(n_iterations):\n",
    "            y_pred = self.sigmoid(np.dot(X,self.param))\n",
    "            self.param -= self.learning_rate * -np.dot(X.T,y - y_pred)\n",
    "        \n",
    "    def predict(self, X):\n",
    "        \n",
    "        y_pred = np.round(self.sigmoid(np.dot(X,self.param))).astype(int)\n",
    "        \n",
    "        return y_pred\n",
    "    \n",
    "    def accuracy(self,pred,actual):\n",
    "        n_correct_preds = 0\n",
    "        for i in range(actual.shape[0]):\n",
    "            if pred[i] == actual[i]:\n",
    "                n_correct_preds += 1\n",
    "        accuracy = n_correct_preds/actual.shape[0]\n",
    "        return accuracy"
   ]
  },
  {
   "cell_type": "code",
   "execution_count": null,
   "id": "3c1f10c9",
   "metadata": {},
   "outputs": [],
   "source": []
  },
  {
   "cell_type": "code",
   "execution_count": 6,
   "id": "c793539e",
   "metadata": {},
   "outputs": [
    {
     "name": "stderr",
     "output_type": "stream",
     "text": [
      "C:\\Users\\Asus\\AppData\\Local\\Temp/ipykernel_18876/3550799458.py:28: RuntimeWarning: overflow encountered in exp\n",
      "  return 1/(1+np.exp(-x))\n"
     ]
    },
    {
     "name": "stdout",
     "output_type": "stream",
     "text": [
      "accuracy = 0.8189102564102564\n"
     ]
    }
   ],
   "source": [
    "if __name__ == \"__main__\":\n",
    "    \n",
    "    data = np.load('pneumoniamnist.npz')\n",
    "    lst = data.files\n",
    "    x_train = data['train_images'].reshape(data['train_images'].shape[0],-1)\n",
    "    x_test = data['test_images'].reshape(data['test_images'].shape[0],-1)\n",
    "    x_val = data['val_images'].reshape(data['val_images'].shape[0],-1)\n",
    "    y_train = data['train_labels']\n",
    "    y_test = data['test_labels']\n",
    "    y_val = data['val_labels']\n",
    "    n_features = x_train.shape[0]\n",
    "\n",
    "    x0 = x_train[np.where(y_train == 0)]\n",
    "    x1 = x_train[np.where(y_train == 1)]\n",
    "   \n",
    "    clf = LogisticRegression()\n",
    "    clf.fit(x_train,y_train)\n",
    "    y_pred = clf.predict(x_test)\n",
    "    accuracy = clf.accuracy(y_pred,y_test)\n",
    "    print(f'accuracy = {accuracy}')"
   ]
  },
  {
   "cell_type": "code",
   "execution_count": null,
   "id": "21fe835a",
   "metadata": {},
   "outputs": [],
   "source": []
  }
 ],
 "metadata": {
  "kernelspec": {
   "display_name": "Python 3 (ipykernel)",
   "language": "python",
   "name": "python3"
  },
  "language_info": {
   "codemirror_mode": {
    "name": "ipython",
    "version": 3
   },
   "file_extension": ".py",
   "mimetype": "text/x-python",
   "name": "python",
   "nbconvert_exporter": "python",
   "pygments_lexer": "ipython3",
   "version": "3.9.7"
  },
  "toc": {
   "base_numbering": 1,
   "nav_menu": {},
   "number_sections": true,
   "sideBar": true,
   "skip_h1_title": false,
   "title_cell": "Table of Contents",
   "title_sidebar": "Contents",
   "toc_cell": false,
   "toc_position": {},
   "toc_section_display": true,
   "toc_window_display": false
  },
  "varInspector": {
   "cols": {
    "lenName": 16,
    "lenType": 16,
    "lenVar": 40
   },
   "kernels_config": {
    "python": {
     "delete_cmd_postfix": "",
     "delete_cmd_prefix": "del ",
     "library": "var_list.py",
     "varRefreshCmd": "print(var_dic_list())"
    },
    "r": {
     "delete_cmd_postfix": ") ",
     "delete_cmd_prefix": "rm(",
     "library": "var_list.r",
     "varRefreshCmd": "cat(var_dic_list()) "
    }
   },
   "types_to_exclude": [
    "module",
    "function",
    "builtin_function_or_method",
    "instance",
    "_Feature"
   ],
   "window_display": false
  }
 },
 "nbformat": 4,
 "nbformat_minor": 5
}
