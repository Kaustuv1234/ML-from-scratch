{
 "cells": [
  {
   "cell_type": "code",
   "execution_count": 1,
   "id": "7f82df2d",
   "metadata": {},
   "outputs": [],
   "source": [
    "import numpy as np"
   ]
  },
  {
   "cell_type": "code",
   "execution_count": 5,
   "id": "2d7144a1",
   "metadata": {},
   "outputs": [],
   "source": [
    "import math\n",
    "\n",
    "class LinearRegression():\n",
    "    \n",
    "    def __init__(self, learning_rate,alpha):\n",
    "            \n",
    "        self.param = None\n",
    "        self.learning_rate = learning_rate\n",
    "        self.reg_rate = alpha\n",
    "        \n",
    "    def initialize_parameters(self, input_dim,output_dim):\n",
    "        \n",
    "        #bound = 1 / math.sqrt(input_dim)\n",
    "        #self.param = np.random.uniform(-bound, bound, (input_dim,output_dim))\n",
    "        self.param = np.ones((input_dim,output_dim))\n",
    "        \n",
    "    def fit(self, x, y,regularization,l1_ratio=0.5,n_iterations = 10000):\n",
    "        \n",
    "        x = np.insert(x, 0, 1, axis=1)\n",
    "        y = y.reshape(-1,1)\n",
    "        self.training_errors = []\n",
    "        self.initialize_parameters(input_dim = x.shape[1],output_dim = y.shape[1])\n",
    "        print(self.param.shape)\n",
    "        # Do gradient descent for n_iterations\n",
    "        for i in range(n_iterations):\n",
    "            \n",
    "            y_pred = np.dot(x,self.param)\n",
    "            if regularization == None:\n",
    "                mse = np.mean(0.5 * (y - y_pred)**2)\n",
    "                grad_param = np.dot(x.T,(y_pred - y))\n",
    "            elif regularization == 'L1':\n",
    "                mse = np.mean(0.5 * (y - y_pred)**2) + self.reg_rate*np.linalg.norm(self.param, ord= 1)\n",
    "                grad_param = np.dot(x.T,(y_pred - y)) + self.reg_rate*np.sign(self.param)\n",
    "            elif regularization == 'L2':\n",
    "                mse = np.mean(0.5 * (y - y_pred)**2) + 0.5*self.reg_rate*np.linalg.norm(self.param)**2\n",
    "                grad_param = -1*np.dot(x.T,(y_pred - y)) + self.reg_rate*self.param\n",
    "            elif regularization == 'Elastic':\n",
    "                mse = np.mean(0.5 * (y - y_pred)**2) + self.reg_rate*(l1_ratio*np.linalg.norm(self.param, ord= 1)+(1-l1_ratio)*0.5*np.dot(self.param.T,self.param))\n",
    "                grad_param = np.dot(x.T,(y_pred - y)) + self.reg_rate*((1-l1_ratio)*self.param + l1_ratio*np.sign(self.param))\n",
    "            self.training_errors.append(mse)\n",
    "            # Gradient of l2 loss w.r.t w\n",
    "            \n",
    "            # Update the weights\n",
    "            self.param = self.param - self.learning_rate * grad_param\n",
    "            print(f'iterations = {i} loss = {mse}')\n",
    "            \n",
    "    def predict(self,x_test):\n",
    "        \n",
    "        x_test = np.insert(x_test, 0, 1, axis=1)\n",
    "        pred = np.dot(x_test,self.param)\n",
    "        \n",
    "        return pred\n",
    "    \n",
    "    def get_training_loss(self):\n",
    "        \n",
    "        return self.training_errors\n",
    "    def get_params(self):\n",
    "        return self.param"
   ]
  },
  {
   "cell_type": "code",
   "execution_count": null,
   "id": "fecebe08",
   "metadata": {},
   "outputs": [],
   "source": []
  }
 ],
 "metadata": {
  "kernelspec": {
   "display_name": "Python 3 (ipykernel)",
   "language": "python",
   "name": "python3"
  },
  "language_info": {
   "codemirror_mode": {
    "name": "ipython",
    "version": 3
   },
   "file_extension": ".py",
   "mimetype": "text/x-python",
   "name": "python",
   "nbconvert_exporter": "python",
   "pygments_lexer": "ipython3",
   "version": "3.9.7"
  },
  "toc": {
   "base_numbering": 1,
   "nav_menu": {},
   "number_sections": true,
   "sideBar": true,
   "skip_h1_title": false,
   "title_cell": "Table of Contents",
   "title_sidebar": "Contents",
   "toc_cell": false,
   "toc_position": {},
   "toc_section_display": true,
   "toc_window_display": false
  },
  "varInspector": {
   "cols": {
    "lenName": 16,
    "lenType": 16,
    "lenVar": 40
   },
   "kernels_config": {
    "python": {
     "delete_cmd_postfix": "",
     "delete_cmd_prefix": "del ",
     "library": "var_list.py",
     "varRefreshCmd": "print(var_dic_list())"
    },
    "r": {
     "delete_cmd_postfix": ") ",
     "delete_cmd_prefix": "rm(",
     "library": "var_list.r",
     "varRefreshCmd": "cat(var_dic_list()) "
    }
   },
   "types_to_exclude": [
    "module",
    "function",
    "builtin_function_or_method",
    "instance",
    "_Feature"
   ],
   "window_display": false
  }
 },
 "nbformat": 4,
 "nbformat_minor": 5
}
