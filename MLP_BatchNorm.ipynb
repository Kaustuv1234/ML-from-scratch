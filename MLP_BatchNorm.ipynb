{
 "cells": [
  {
   "cell_type": "code",
   "execution_count": 78,
   "id": "bed4d684",
   "metadata": {},
   "outputs": [],
   "source": [
    "import numpy as np\n",
    "import math\n",
    "from tqdm import tqdm\n",
    "import matplotlib.pyplot as plt\n",
    "import pickle"
   ]
  },
  {
   "cell_type": "code",
   "execution_count": 79,
   "id": "75c67796",
   "metadata": {},
   "outputs": [],
   "source": [
    "class Layer(object):\n",
    "\n",
    "    def forwardPass(self, x,train) :\n",
    "        pass\n",
    "    \n",
    "    def backwardPass(self, grad_input) :\n",
    "        pass\n",
    "\n",
    "class ParamLayer(Layer):\n",
    "\n",
    "    def update(self, learning_rate) :\n",
    "        pass"
   ]
  },
  {
   "cell_type": "code",
   "execution_count": 80,
   "id": "fa403638",
   "metadata": {},
   "outputs": [],
   "source": [
    "class LinearLayer(ParamLayer):\n",
    "    \n",
    "    def __init__(self,input_dim,output_dim,regularization,reg_rate=0.01):\n",
    "        self.weights = np.random.normal(0.0, 0.1,size=input_dim * output_dim).reshape( input_dim,output_dim)\n",
    "        self.weights = self.weights.astype('float64')\n",
    "        self.biases = np.zeros((1, output_dim)).astype('float64')\n",
    "        self.x = np.zeros(0)\n",
    "        self.grad_biases = np.zeros(0)\n",
    "        self.grad_weights = np.zeros(0)\n",
    "        self.regularization = regularization\n",
    "        self.reg_rate = reg_rate\n",
    "        self.optimizer = Adam()\n",
    "        \n",
    "    def forwardPass(self,x,train = True):\n",
    "        self.x = x  ## x is a input_dim,1 vector \n",
    "        return np.dot(x,self.weights) + self.biases  ## returns out_dim,1 vector\n",
    "    \n",
    "    def backwardPass(self,grad_input):\n",
    "        self.grad_weights = np.dot(self.x.T,grad_input)\n",
    "        self.grad_biases = np.sum(grad_input, axis=0, keepdims=True)\n",
    "        return np.dot(grad_input,self.weights.T)\n",
    "    \n",
    "    def update(self, learning_rate):\n",
    "        \n",
    "        if self.regularization==None:\n",
    "            grad_weights = self.grad_weights\n",
    "        elif self.regularization == 'L1':\n",
    "            grad_weights = self.grad_weights + self.reg_rate*np.sign(self.weights)\n",
    "        elif self.regularization == 'L2':\n",
    "            grad_weights = self.grad_weights + self.reg_rate*self.weights  \n",
    "        self.weights,self.biases = self.optimizer.update(self.weights,grad_weights,self.biases,self.grad_biases)\n",
    "        return self.weights,self.biases"
   ]
  },
  {
   "cell_type": "code",
   "execution_count": 156,
   "id": "0566f1cd",
   "metadata": {},
   "outputs": [],
   "source": [
    "class SoftmaxLayer(Layer):\n",
    "\n",
    "    def __init__(self):\n",
    "        self.next_x = np.zeros(0)\n",
    "\n",
    "    def forwardPass(self, x,train = True):\n",
    "        e_x = np.exp(x - np.max(x, axis=-1, keepdims=True))\n",
    "        return e_x / np.sum(e_x, axis=-1, keepdims=True)\n",
    "\n",
    "    def backwardPass(self, grad_input):\n",
    "        y = self.forwardPass(grad_input)\n",
    "        return y*(1-y)"
   ]
  },
  {
   "cell_type": "code",
   "execution_count": 157,
   "id": "716a0f70",
   "metadata": {},
   "outputs": [],
   "source": [
    "class SigmoidLayer(Layer):\n",
    "\n",
    "    def __init__(self):\n",
    "        self.next_x = np.zeros(0)\n",
    "\n",
    "    def forwardPass(self, x,train = True) :\n",
    "        self.next_x = 1. / (1. + np.exp(-x))\n",
    "        return self.next_x\n",
    "\n",
    "    def backwardPass(self, grad_input):\n",
    "        return (self.next_x * (1 - self.next_x)) * grad_input"
   ]
  },
  {
   "cell_type": "code",
   "execution_count": 158,
   "id": "f2caeab1",
   "metadata": {},
   "outputs": [],
   "source": [
    "import math\n",
    "class ReLU(Layer):\n",
    "    def __init__(self):\n",
    "        self.next_x = np.zeros(0)\n",
    "\n",
    "    def forwardPass(self, x,train = True) :\n",
    "        self.next_x = np.where(x >= 0, x, 0)\n",
    "        return self.next_x\n",
    "\n",
    "    def backwardPass(self, grad_input):\n",
    "        return np.where(grad_input >= 0, 1, 0)"
   ]
  },
  {
   "cell_type": "code",
   "execution_count": 159,
   "id": "97ebd30a",
   "metadata": {},
   "outputs": [],
   "source": [
    "class CrossEntropyLoss(Layer):\n",
    "\n",
    "    def __init__(self, y):\n",
    "        self.eps = 1e-3\n",
    "        self.y = np.clip(y, self.eps, 1-self.eps)\n",
    "        self.p = np.zeros(0)\n",
    "\n",
    "    def forwardPass(self, x,train = True):\n",
    "        self.p = np.clip(x, self.eps, 1.0 - self.eps)\n",
    "        return -(self.y * np.log(self.p) + (1-self.y) * np.log(1 - self.p))\n",
    "\n",
    "    def backwardPass(self, grad_input):\n",
    "        error = (self.p - self.y) / (self.p - self.p ** 2)\n",
    "        return error * grad_input"
   ]
  },
  {
   "cell_type": "code",
   "execution_count": 160,
   "id": "6c08ee05",
   "metadata": {},
   "outputs": [],
   "source": [
    "class MSELayer(Layer):\n",
    "\n",
    "    def __init__(self, y):\n",
    "        self.y = y\n",
    "        self.x = np.zeros(0)\n",
    "\n",
    "    def forward(self, x, train = True) :\n",
    "        self.x = x\n",
    "        return np.square(x - self.y)\n",
    "\n",
    "    def backward(self, grad_input):\n",
    "        return -2 * (self.y - self.x) * grad_input"
   ]
  },
  {
   "cell_type": "code",
   "execution_count": 161,
   "id": "4677ea6e",
   "metadata": {},
   "outputs": [],
   "source": [
    "class BatchNormLayer(ParamLayer):\n",
    "\n",
    "    def __init__(self, dims) :\n",
    "        self.gamma = np.ones((1, dims), dtype= 'float64')\n",
    "        self.bias = np.zeros((1, dims), dtype= 'float64')\n",
    "        self.eps = 1e-3\n",
    "\n",
    "        # forward params\n",
    "        self.var_x = np.zeros(0)\n",
    "        self.stddev_x = np.zeros(0)\n",
    "        self.x_minus_mean = np.zeros(0)\n",
    "        self.standard_x = np.zeros(0)\n",
    "        self.num_examples = 0\n",
    "        self.mean_x = np.zeros(0)\n",
    "\n",
    "        # backward params\n",
    "        self.gamma_grad = np.zeros(0)\n",
    "        self.beta_grad = np.zeros(0)\n",
    "        self.optimizer = Adam()\n",
    "\n",
    "    def forwardPass(self, x, train=True) :\n",
    "        self.num_examples = x.shape[0]\n",
    "        #print(f\"in forward pass {self.num_examples}\")\n",
    "        if train:\n",
    "            self.mean_x = np.mean(x, axis=0, keepdims=True)\n",
    "            self.var_x = np.var(x , axis=0, keepdims=True)\n",
    "        else:\n",
    "            self.mean_x = self.mean_x.copy()\n",
    "            self.var_x = self.var_x.copy()\n",
    "\n",
    "        self.var_x += self.eps\n",
    "        self.stddev_x = np.sqrt(self.var_x)\n",
    "        self.xmu = x - self.mean_x\n",
    "        self.standard_x = self.xmu / self.stddev_x\n",
    "        return self.gamma * self.standard_x + self.bias\n",
    "\n",
    "    def backwardPass(self, grad_input) :\n",
    "        \n",
    "        standard_grad = grad_input * self.gamma\n",
    "\n",
    "        var_grad = np.sum(standard_grad * self.xmu * -0.5 * self.var_x ** (-3/2),\n",
    "                          axis=0, keepdims=True)\n",
    "        stddev_inv = 1 / self.stddev_x\n",
    "        aux_xmu = 2 * self.xmu / self.num_examples\n",
    "\n",
    "        mean_grad = (np.sum(standard_grad * -stddev_inv, axis=0,\n",
    "                            keepdims=True) +\n",
    "                            var_grad * np.sum(-aux_xmu, axis=0,\n",
    "                            keepdims=True))\n",
    "\n",
    "        self.gamma_grad = np.sum(grad_input * self.standard_x, axis=0,\n",
    "                                 keepdims=True)\n",
    "        self.bias_grad = np.sum(grad_input, axis=0, keepdims=True)\n",
    "        return standard_grad * stddev_inv + var_grad * aux_xmu + mean_grad / self.num_examples\n",
    "               \n",
    "\n",
    "    def update(self, learning_rate):\n",
    "        \n",
    "        #self.gamma -= learning_rate * self.gamma_grad\n",
    "        #self.bias -= learning_rate * self.bias_grad\n",
    "        self.gamma,self.bias = self.optimizer.update(self.gamma,self.gamma_grad,self.bias,self.bias_grad)"
   ]
  },
  {
   "cell_type": "code",
   "execution_count": 162,
   "id": "15eb3d16",
   "metadata": {},
   "outputs": [],
   "source": [
    "class Dropout(Layer):\n",
    "    \n",
    "    def __init__(self,keep_prob):\n",
    "        \n",
    "        self.keep_prob = keep_prob\n",
    "        \n",
    "    def forwardPass(self,x,train):\n",
    "        if train:\n",
    "            self.mask = np.random.rand(x.shape[0],x.shape[1])\n",
    "            self.mask = self.mask < self.keep_prob\n",
    "            x = np.multiply(x,self.mask)\n",
    "            x = x/self.keep_prob\n",
    "        \n",
    "        return x\n",
    "    \n",
    "    def backwardPass(self,grad_input):\n",
    "\n",
    "        return grad_input*self.mask"
   ]
  },
  {
   "cell_type": "code",
   "execution_count": 163,
   "id": "8a225850",
   "metadata": {},
   "outputs": [],
   "source": [
    "class StochasticGradientDescent():\n",
    "    def __init__(self, learning_rate=0.001, momentum=0):\n",
    "        self.learning_rate = learning_rate \n",
    "        self.momentum = momentum\n",
    "        self.w_updt = None\n",
    "        self.b_updt = None\n",
    "    def update(self, w, grad_wrt_w,b,grad_wrt_b):\n",
    "        if self.w_updt is None:\n",
    "            self.w_updt = np.zeros(np.shape(w))\n",
    "        if self.b_updt is None:\n",
    "            self.b_updt = np.zeros(np.shape(b))\n",
    "        self.w_updt = self.momentum * self.w_updt + self.learning_rate * grad_wrt_w\n",
    "        self.b_updt = self.momentum * self.b_updt + self.learning_rate * grad_wrt_b\n",
    "        return w - self.w_updt, b - self.b_updt"
   ]
  },
  {
   "cell_type": "code",
   "execution_count": 164,
   "id": "a5bb03ef",
   "metadata": {},
   "outputs": [],
   "source": [
    "class Adam():\n",
    "    \n",
    "    def __init__(self, learning_rate= 3e-4, b1=0.9, b2=0.999):\n",
    "        self.learning_rate = learning_rate\n",
    "        self.eps = 1e-8\n",
    "        self.m_w = None\n",
    "        self.v_w = None\n",
    "        self.m_b = None\n",
    "        self.v_b = None\n",
    "        # Decay rates\n",
    "        self.b1 = b1\n",
    "        self.b2 = b2\n",
    "\n",
    "    def update(self, w, grad_wrt_w,b,grad_wrt_b):\n",
    "        # If not initialized\n",
    "        if self.m_w is None:\n",
    "            self.m_w = np.zeros(np.shape(grad_wrt_w))\n",
    "            self.v_w = np.zeros(np.shape(grad_wrt_w))\n",
    "        if self.m_b is None:\n",
    "            self.m_b = np.zeros(np.shape(grad_wrt_b))\n",
    "            self.v_b = np.zeros(np.shape(grad_wrt_b))\n",
    "        \n",
    "        self.m_w = self.b1 * self.m_w + (1 - self.b1) * grad_wrt_w\n",
    "        self.v_w = self.b2 * self.v_w + (1 - self.b2) * np.power(grad_wrt_w, 2)\n",
    "\n",
    "        self.m_b = self.b1 * self.m_b + (1 - self.b1) * grad_wrt_b\n",
    "        self.v_b = self.b2 * self.v_b + (1 - self.b2) * np.power(grad_wrt_b, 2)\n",
    "        \n",
    "        m_w_hat = self.m_w / (1 - self.b1)\n",
    "        v_w_hat = self.v_w / (1 - self.b2)\n",
    "        self.w_updt = self.learning_rate * m_w_hat / (np.sqrt(v_w_hat) + self.eps)\n",
    "        \n",
    "        m_b_hat = self.m_b / (1 - self.b1)\n",
    "        v_b_hat = self.v_b / (1 - self.b2)\n",
    "\n",
    "        self.b_updt = self.learning_rate * m_b_hat / (np.sqrt(v_b_hat) + self.eps)\n",
    "        \n",
    "\n",
    "        return w - self.w_updt,b-self.b_updt"
   ]
  },
  {
   "cell_type": "code",
   "execution_count": 171,
   "id": "b41a9cf9",
   "metadata": {},
   "outputs": [],
   "source": [
    "class NeuralNetwork:\n",
    "\n",
    "    def __init__(self, layers):\n",
    "        self.layers = layers\n",
    "        self.loss_layer = None\n",
    "    \n",
    "    def backward_propagation(self, output) :\n",
    "        grad_input = self.loss_layer.backwardPass(np.ones_like(output)) \n",
    "        for layer_index in range(len(self.layers)-1, -1, -1):\n",
    "            grad_input = self.layers[layer_index].backwardPass(grad_input)\n",
    "\n",
    "    def update_params(self, learning_rate) :\n",
    "        for layer_index in range(len(self.layers)):\n",
    "            layer = self.layers[layer_index]\n",
    "            if isinstance(layer, ParamLayer):\n",
    "                layer.update(learning_rate)\n",
    "\n",
    "    def evaluate_model(self, test_x, \n",
    "                       test_y):\n",
    "        self.loss_layer = CrossEntropyLoss(test_y)\n",
    "        #self.loss_layer = MSELayer(test_y)\n",
    "        y_pred = self.predict(test_x)\n",
    "        y_pred_labels = np.argmax(y_pred, axis=1)\n",
    "        y_labels = np.argmax(test_y, axis=1)\n",
    "        loss = self.loss_layer.forwardPass(y_pred)\n",
    "        accuracy = float(np.sum(y_labels == y_pred_labels) / test_x.shape[0])\n",
    "        return float(np.mean(loss)),y_pred_labels,accuracy\n",
    "\n",
    "    def fit(self, x_train, y_train,\n",
    "            learning_rate, steps,\n",
    "            batch_size, x_test,\n",
    "            y_test) :\n",
    "        \n",
    "        num_examples = x_train.shape[0]\n",
    "        num_batches = math.ceil(num_examples/batch_size)\n",
    "        n_epochs = steps//num_batches\n",
    "        training_metrics = np.zeros((n_epochs,2))  # loss, accuracy\n",
    "        validation_metrics = np.zeros((n_epochs,2))\n",
    "        random_index = np.linspace(0, num_examples-1, num_examples).astype(int)\n",
    "        for epoch in tqdm(range(n_epochs)):\n",
    "            \n",
    "            np.random.shuffle(random_index)\n",
    "            x_train = x_train[random_index]\n",
    "            y_train = y_train[random_index]\n",
    "            for index_batch in range(0, num_examples, batch_size):\n",
    "                mini_batch_x = x_train[index_batch: index_batch + batch_size]\n",
    "                mini_batch_y = y_train[index_batch: index_batch + batch_size]\n",
    "                self.loss_layer = CrossEntropyLoss(mini_batch_y)\n",
    "                #self.loss_layer = MSELayer(mini_batch_y)\n",
    "                y_pred = self.predict(mini_batch_x,train = True)\n",
    "                self.loss_layer.forwardPass(y_pred)\n",
    "                self.backward_propagation(y_pred)\n",
    "                self.update_params(learning_rate)\n",
    "\n",
    "            tr_loss,tr_pred,tr_accuracy = self.evaluate_model(x_train, y_train)\n",
    "            val_loss,val_pred,val_accuracy = self.evaluate_model(x_test,y_test)\n",
    "            if epoch%50==0 : \n",
    "                print(tr_pred)\n",
    "                print(tr_loss,tr_accuracy,val_loss,val_accuracy)\n",
    "            training_metrics[epoch,0] = tr_loss\n",
    "            training_metrics[epoch,1] = tr_accuracy\n",
    "            validation_metrics[epoch,0] = val_loss\n",
    "            validation_metrics[epoch,1] = val_accuracy\n",
    "\n",
    "        return training_metrics,validation_metrics\n",
    "\n",
    "    def predict(self, x_test,train = False) :\n",
    "        for layer in self.layers:\n",
    "            x_test = layer.forwardPass(x_test,train)\n",
    "        return x_test"
   ]
  },
  {
   "cell_type": "code",
   "execution_count": null,
   "id": "a6ce27fb",
   "metadata": {},
   "outputs": [],
   "source": [
    "class Q1DataLoader():\n",
    "    \n",
    "    def __init__(self):\n",
    "        self.data = np.load('../Assignment 1/data/pneumoniamnist.npz')\n",
    "    \n",
    "    def train_test_split(self):\n",
    "        \n",
    "        x_train = self.data['train_images'].reshape(self.data['train_images'].shape[0],-1).astype(\"float32\")\n",
    "        x_test = self.data['test_images'].reshape(self.data['test_images'].shape[0],-1).astype(\"float32\")\n",
    "        x_val = self.data['val_images'].reshape(self.data['val_images'].shape[0],-1).astype(\"float32\")\n",
    "        y_train = self.data['train_labels'].reshape((-1,))\n",
    "        y_test = self.data['test_labels'].reshape((-1,))\n",
    "        y_val = self.data['val_labels'].reshape((-1,))\n",
    "        \n",
    "        return x_train,y_train,x_test,y_test,x_val,y_val\n",
    "    \n",
    "    def one_hot(self,y):\n",
    "        \n",
    "        one_hot_y = np.zeros((y.size, y.max()+1)).astype(\"float32\")\n",
    "        one_hot_y[np.arange(y.size), y] = 1\n",
    "\n",
    "        return one_hot_y \n",
    "    \n",
    "    def get_metrics(self,pred,actual):\n",
    "        \n",
    "        n_correct_preds = 0\n",
    "        tp = 0\n",
    "        fp = 0\n",
    "        tn = 0\n",
    "        fn = 0\n",
    "        for i in range(actual.shape[0]):\n",
    "            if pred[i] == actual[i]:\n",
    "                if actual[i]==1:\n",
    "                    tp += 1\n",
    "                else:\n",
    "                    tn += 1\n",
    "            else:\n",
    "                if actual[i]==1:\n",
    "                    fn += 1\n",
    "                else:\n",
    "                    fp += 1\n",
    "\n",
    "        accuracy = (tp+tn)/(tp+fp+tn+fn)\n",
    "        if tp+fn==0:\n",
    "            recall= 0 \n",
    "        else:\n",
    "            recall = tp/(tp+fn)\n",
    "        if tp+fp==0:\n",
    "            precision = 0\n",
    "        else:   \n",
    "            precision = tp/(tp+fp)\n",
    "        if recall==0 and precision==0:\n",
    "            F1 = 0 \n",
    "        else:\n",
    "            F1 = 2*recall*precision/(recall+precision)\n",
    "        if tn+fp==0:\n",
    "            specificity = 0\n",
    "        else:\n",
    "            specificity = tn/(tn+fp)\n",
    "        AUC = (recall + specificity)/2\n",
    "\n",
    "        return accuracy,F1,AUC"
   ]
  },
  {
   "cell_type": "code",
   "execution_count": null,
   "id": "b2c9f163",
   "metadata": {},
   "outputs": [],
   "source": [
    "class Q2DataLoader():\n",
    "    \n",
    "    def __init__(self):\n",
    "        self.data = np.load('../Assignment 1/data/bloodmnist.npz')\n",
    "    \n",
    "    def train_test_split(self):\n",
    "        \n",
    "        x_train = self.data['train_images'].reshape(self.data['train_images'].shape[0],-1).astype(\"float32\")\n",
    "        x_test = self.data['test_images'].reshape(self.data['test_images'].shape[0],-1).astype(\"float32\")\n",
    "        x_val = self.data['val_images'].reshape(self.data['val_images'].shape[0],-1).astype(\"float32\")\n",
    "        y_train = self.data['train_labels'].reshape((-1,))\n",
    "        y_test = self.data['test_labels'].reshape((-1,))\n",
    "        y_val = self.data['val_labels'].reshape((-1,))\n",
    "    \n",
    "        return x_train,y_train,x_test,y_test,x_val,y_val\n",
    "    \n",
    "    \n",
    "    def get_metrics(self,pred,actual):\n",
    "        \n",
    "        n_correct_preds = 0\n",
    "        tp = 0\n",
    "        fp = 0\n",
    "        tn = 0\n",
    "        fn = 0\n",
    "        for i in range(actual.shape[0]):\n",
    "            if pred[i] == actual[i]:\n",
    "                if actual[i]==1:\n",
    "                    tp += 1\n",
    "                else:\n",
    "                    tn += 1\n",
    "            else:\n",
    "                if actual[i]==1:\n",
    "                    fn += 1\n",
    "                else:\n",
    "                    fp += 1\n",
    "\n",
    "        accuracy = (tp+tn)/(tp+fp+tn+fn)\n",
    "        if tp+fn==0:\n",
    "            recall= 0 \n",
    "        else:\n",
    "            recall = tp/(tp+fn)\n",
    "        if tp+fp==0:\n",
    "            precision = 0\n",
    "        else:   \n",
    "            precision = tp/(tp+fp)\n",
    "        if recall==0 and precision==0:\n",
    "            F1 = 0 \n",
    "        else:\n",
    "            F1 = 2*recall*precision/(recall+precision)\n",
    "        if tn+fp == 0:\n",
    "            specificity = 0\n",
    "        else:\n",
    "            specificity = tn/(tn+fp)\n",
    "        AUC = (recall + specificity)/2\n",
    "\n",
    "        return accuracy,F1,AUC"
   ]
  },
  {
   "cell_type": "code",
   "execution_count": null,
   "id": "e3978789",
   "metadata": {},
   "outputs": [],
   "source": [
    "class Q4_DataLoader():\n",
    "    \n",
    "    def __init__(self):\n",
    "        \n",
    "        self.phoneme = {}\n",
    "        phoneme_list = [\"bcl\",\"dcl\",\"gcl\",\"pcl\",\"tck\",\"kcl\",\"dcl\",\"tcl\",\"b\",\"d\",\"g\",\"p\",\"t\",\"k\",\"dx\",\"q\",\"jh\",\"ch\",\"s\",\"sh\",\"z\",\"zh\",\"f\",\"th\",\"v\",\"dh\",\"m\",\"n\",\"ng\",\"em\",\"en\",\"eng\",\"nx\",\"l\",\"r\",\"w\",\"y\",\"hh\",\"hv\",\"el\",\"iy\",\"ih\",\"eh\",\"ey\",\"ae\",\"aa\",\"aw\",\"ay\",\"ah\",\"ao\",\"oy\",\"ow\",\"uh\",\"uw\",\"ux\",\"er\",\"ax\",\"ix\",\"axr\",\"ax-h\",\"pau\",\"epi\",\"h#\"]\n",
    "        phonemlist_length = 63\n",
    "        #create key value dictionary\n",
    "        for ph in phoneme_list: \n",
    "            if('a' in ph or 'e' in ph or 'i' in ph or 'o' in ph or 'u' in ph):\n",
    "                self.phoneme[ph] = 0                                                ##phoneme is vowel\n",
    "            else:\n",
    "                self.phoneme[ph] = 1\n",
    "    \n",
    "    def get_max_feature_len(self,x):\n",
    "        \n",
    "        max_len = 0\n",
    "        n=x.__len__()\n",
    "        for i in range(n):\n",
    "            max_len = max(max_len,x[i].__len__())\n",
    "        return max_len\n",
    "    \n",
    "    def add_padding(self,x,max_len):\n",
    "    \n",
    "        x_train = []\n",
    "        n = x.__len__()\n",
    "        for i in range(n):\n",
    "            m=x[i].__len__()\n",
    "            temp=np.zeros(max_len)\n",
    "            if(m>max_len):\n",
    "                temp=x[i][:max_len]\n",
    "            else:\n",
    "                temp[:m]=x[i]\n",
    "\n",
    "            x_train.append(temp)\n",
    "        return x_train\n",
    "\n",
    "    def get_x_and_y(self,file_path):\n",
    "    \n",
    "        x = []\n",
    "        y = []\n",
    "        count = 0\n",
    "        for folder in os.listdir(file_path):\n",
    "            \n",
    "            path = file_path + folder + \"/\"\n",
    "            temp_name = \"\"\n",
    "            for files in os.listdir(path):\n",
    "                name = files.split(\".\")[0]\n",
    "                if name != temp_name:\n",
    "                    temp_name = name\n",
    "                wav_file = path + name + \".WAV\"\n",
    "                phn_file = path + name + \".PHN\"\n",
    "\n",
    "                data, sampling_freq = librosa.load(wav_file,sr=None, mono=True,offset=0.0,duration=None)\n",
    "                data=data.tolist()\n",
    "\n",
    "                file_obj = open(phn_file, 'r')\n",
    "                phonem_data = file_obj.readlines()\n",
    "                n=np.shape(phonem_data)[0]\n",
    "\n",
    "                for i in range(n):\n",
    "                    \n",
    "                    lower,upper,ph=phonem_data[i].split(\" \")\n",
    "                    lower = int(lower)\n",
    "                    upper = int(upper)\n",
    "                    ph = ph.replace(\"\\n\", \"\")\n",
    "                    temp = data[lower:upper]\n",
    "                    temp = np.array(temp)\n",
    "                    count += 1\n",
    "                    mfccs = librosa.feature.mfcc(temp, sr=sampling_freq)\n",
    "                    mfccs = mfccs.flatten()\n",
    "                    temp = mfccs.tolist()\n",
    "                    x.append(temp)\n",
    "                    y.append(self.phoneme[ph])\n",
    "                    \n",
    "        return x,y\n",
    "    \n",
    "    def preprocessing_audio(self,path):\n",
    "  \n",
    "        path_test  = path + \"test/DR1/\"\n",
    "        path_train = path + \"train/DR1/\"\n",
    "        x_train,y_train = self.get_x_and_y(path_train)         \n",
    "        x_test,y_test = self.get_x_and_y(path_test)\n",
    "        max_len = self.get_max_feature_len(x_train)\n",
    "        max_len = max(max_len,self.get_max_feature_len(x_test))\n",
    "        x_train = self.add_padding(x_train,max_len)\n",
    "        x_test = self.add_padding(x_test,max_len)\n",
    "\n",
    "        return np.array(x_train), np.array(y_train), np.array(x_test), np.array(y_test)\n",
    "    \n",
    "    def get_metrics(self,pred,actual):\n",
    "        n_correct_preds = 0\n",
    "        tp = 0\n",
    "        fp = 0\n",
    "        tn = 0\n",
    "        fn = 0\n",
    "        for i in range(actual.shape[0]):\n",
    "            if pred[i] == actual[i]:\n",
    "                if actual[i]==1:\n",
    "                    tp += 1\n",
    "                else:\n",
    "                    tn += 1\n",
    "            else:\n",
    "                if actual[i]==1:\n",
    "                    fn += 1\n",
    "                else:\n",
    "                    fp += 1\n",
    "        \n",
    "        return tp/actual.shape[0],fp/actual.shape[0],tn/actual.shape[0],fn/actual.shape[0]\n"
   ]
  },
  {
   "cell_type": "code",
   "execution_count": 173,
   "id": "d3bea49f",
   "metadata": {},
   "outputs": [
    {
     "name": "stdout",
     "output_type": "stream",
     "text": [
      "(11959, 2352) (11959, 8)\n"
     ]
    },
    {
     "name": "stderr",
     "output_type": "stream",
     "text": [
      "  0%|                                                                                           | 0/83 [00:00<?, ?it/s]C:\\Users\\Asus\\AppData\\Local\\Temp/ipykernel_17376/2614723586.py:7: RuntimeWarning: overflow encountered in exp\n",
      "  self.next_x = 1. / (1. + np.exp(-x))\n",
      "  1%|█                                                                                  | 1/83 [00:04<05:36,  4.10s/it]"
     ]
    },
    {
     "name": "stdout",
     "output_type": "stream",
     "text": [
      "[6 6 6 ... 6 6 6]\n",
      "0.3730899406916936 0.19499958190484154 0.3731108476996422 0.19467991815258695\n"
     ]
    },
    {
     "name": "stderr",
     "output_type": "stream",
     "text": [
      " 61%|██████████████████████████████████████████████████▍                               | 51/83 [03:25<02:35,  4.87s/it]"
     ]
    },
    {
     "name": "stdout",
     "output_type": "stream",
     "text": [
      "[6 6 6 ... 6 6 6]\n",
      "0.36739639879620334 0.19491596287314994 0.36743334333381855 0.19467991815258695\n"
     ]
    },
    {
     "name": "stderr",
     "output_type": "stream",
     "text": [
      "100%|██████████████████████████████████████████████████████████████████████████████████| 83/83 [06:37<00:00,  4.79s/it]\n"
     ]
    },
    {
     "name": "stdout",
     "output_type": "stream",
     "text": [
      "baseline metrics on test data= (0.19467991815258695, 0, 0.11905613156953879)\n"
     ]
    },
    {
     "name": "stderr",
     "output_type": "stream",
     "text": [
      "  1%|█                                                                                  | 1/83 [00:04<06:20,  4.64s/it]"
     ]
    },
    {
     "name": "stdout",
     "output_type": "stream",
     "text": [
      "[6 0 7 ... 6 6 6]\n",
      "0.28476456240651454 0.646709591102935 0.28686430756785986 0.631102016954107\n"
     ]
    },
    {
     "name": "stderr",
     "output_type": "stream",
     "text": [
      " 61%|██████████████████████████████████████████████████▍                               | 51/83 [03:56<02:26,  4.59s/it]"
     ]
    },
    {
     "name": "stdout",
     "output_type": "stream",
     "text": [
      "[3 6 0 ... 1 1 3]\n",
      "0.13510563005538279 0.8299188895392592 0.15038163714055855 0.7848582285881321\n"
     ]
    },
    {
     "name": "stderr",
     "output_type": "stream",
     "text": [
      "100%|██████████████████████████████████████████████████████████████████████████████████| 83/83 [06:21<00:00,  4.59s/it]\n"
     ]
    },
    {
     "name": "stdout",
     "output_type": "stream",
     "text": [
      "batchNorm metrics = (0.8079508915521777, 0.648850881881347, 0.8719699105268466)\n"
     ]
    },
    {
     "name": "stderr",
     "output_type": "stream",
     "text": [
      "  1%|█                                                                                  | 1/83 [00:03<05:07,  3.75s/it]"
     ]
    },
    {
     "name": "stdout",
     "output_type": "stream",
     "text": [
      "[6 6 6 ... 6 6 6]\n",
      "0.3735008297369983 0.1948323438414583 0.37349836467806335 0.19467991815258695\n"
     ]
    },
    {
     "name": "stderr",
     "output_type": "stream",
     "text": [
      " 61%|██████████████████████████████████████████████████▍                               | 51/83 [03:04<01:53,  3.55s/it]"
     ]
    },
    {
     "name": "stdout",
     "output_type": "stream",
     "text": [
      "[6 6 6 ... 6 6 6]\n",
      "0.36741854189628204 0.1948323438414583 0.3674436257365829 0.19467991815258695\n"
     ]
    },
    {
     "name": "stderr",
     "output_type": "stream",
     "text": [
      "100%|██████████████████████████████████████████████████████████████████████████████████| 83/83 [05:52<00:00,  4.25s/it]\n"
     ]
    },
    {
     "name": "stdout",
     "output_type": "stream",
     "text": [
      "dropout metrics = (0.19467991815258695, 0, 0.11905613156953879)\n"
     ]
    },
    {
     "name": "stderr",
     "output_type": "stream",
     "text": [
      "  1%|█                                                                                  | 1/83 [00:03<04:50,  3.54s/it]"
     ]
    },
    {
     "name": "stdout",
     "output_type": "stream",
     "text": [
      "[6 6 6 ... 6 6 6]\n",
      "0.3682518799124445 0.1948323438414583 0.3682829308924206 0.19467991815258695\n"
     ]
    },
    {
     "name": "stderr",
     "output_type": "stream",
     "text": [
      " 61%|██████████████████████████████████████████████████▍                               | 51/83 [02:56<01:52,  3.52s/it]"
     ]
    },
    {
     "name": "stdout",
     "output_type": "stream",
     "text": [
      "[6 6 6 ... 6 6 6]\n",
      "0.3673903600455101 0.19491596287314994 0.36742580361834 0.19467991815258695\n"
     ]
    },
    {
     "name": "stderr",
     "output_type": "stream",
     "text": [
      "100%|██████████████████████████████████████████████████████████████████████████████████| 83/83 [05:35<00:00,  4.04s/it]\n"
     ]
    },
    {
     "name": "stdout",
     "output_type": "stream",
     "text": [
      "L1 metrics = (0.19467991815258695, 0, 0.11905613156953879)\n"
     ]
    },
    {
     "name": "stderr",
     "output_type": "stream",
     "text": [
      "  1%|█                                                                                  | 1/83 [00:03<04:52,  3.57s/it]"
     ]
    },
    {
     "name": "stdout",
     "output_type": "stream",
     "text": [
      "[6 6 6 ... 6 6 6]\n",
      "0.3697040411222812 0.1948323438414583 0.36972249243384525 0.19467991815258695\n"
     ]
    },
    {
     "name": "stderr",
     "output_type": "stream",
     "text": [
      " 61%|██████████████████████████████████████████████████▍                               | 51/83 [04:13<03:57,  7.42s/it]"
     ]
    },
    {
     "name": "stdout",
     "output_type": "stream",
     "text": [
      "[1 1 1 ... 1 1 1]\n",
      "0.3453257860307749 0.31900660590350366 0.3450364563462139 0.3177433498976907\n"
     ]
    },
    {
     "name": "stderr",
     "output_type": "stream",
     "text": [
      "100%|██████████████████████████████████████████████████████████████████████████████████| 83/83 [09:51<00:00,  7.13s/it]\n"
     ]
    },
    {
     "name": "stdout",
     "output_type": "stream",
     "text": [
      "L2 metrics = (0.2844197603040047, 0, 0.173936360386128)\n"
     ]
    }
   ],
   "source": [
    "\n",
    "def one_hot(y):\n",
    "        \n",
    "    one_hot_y = np.zeros((y.size, y.max()+1)).astype(\"float32\")\n",
    "    one_hot_y[np.arange(y.size), y] = 1\n",
    "\n",
    "    return one_hot_y \n",
    "\n",
    "if __name__=='__main__':\n",
    "    \n",
    "    \n",
    "    \n",
    "    dataset = Q2DataLoader()\n",
    "    x_train,y_train,x_test,y_test,x_val,y_val = dataset.train_test_split()\n",
    "    learning_rate = 1e-3\n",
    "    batch_size = 100\n",
    "    neurons = 100\n",
    "    steps = 10000\n",
    "    \n",
    "    '''\n",
    "    with open('Q4.pkl', 'rb') as infile:\n",
    "        result = pickle.load(infile)\n",
    "    \n",
    "    \n",
    "    x_train,y_train,x_test,y_test = result'''\n",
    "    \n",
    "    \n",
    "    y_train_hot = one_hot(y_train)\n",
    "    y_test_hot = one_hot(y_test)\n",
    "    y_val_hot = one_hot(y_val)\n",
    "    print(x_train.shape,y_train_hot.shape)\n",
    "    \n",
    "    ## single Linear Layer networks \n",
    "    \n",
    "    model_baseline = NeuralNetwork([LinearLayer(x_train.shape[1],neurons,None), SigmoidLayer(),\n",
    "                                    LinearLayer(neurons, y_train_hot.shape[1],None),SigmoidLayer()])\n",
    "    baseline_tr_metrics,baseline_val_metrics = model_baseline.fit(x_train, y_train_hot, steps=steps,\n",
    "                                           learning_rate=learning_rate,\n",
    "                                           batch_size=batch_size,\n",
    "                                           x_test = x_test,y_test = y_test_hot)\n",
    "    baseline_tr_loss = baseline_tr_metrics[:,0]\n",
    "    baseline_tr_accuracy = baseline_tr_metrics[:,1]\n",
    "    baseline_val_loss = baseline_val_metrics[:,0]\n",
    "    baseline_val_accuracy = baseline_val_metrics[:,1]\n",
    "    baseline_pred = model_baseline.evaluate_model(x_test,y_test_hot)[1]\n",
    "    \n",
    "    print(f'baseline metrics on test data= {dataset.get_metrics(baseline_pred,y_test)}')\n",
    "    \n",
    "    model_batchNorm = NeuralNetwork([LinearLayer(x_train.shape[1], neurons,None),\n",
    "                                BatchNormLayer(neurons),\n",
    "                                SigmoidLayer(),\n",
    "                                LinearLayer(neurons, y_train_hot.shape[1],None),\n",
    "                                SigmoidLayer()])\n",
    "    batchNorm_tr_metrics,batchNorm_val_metrics = model_batchNorm.fit(x_train, y_train_hot, steps=steps,\n",
    "                                           learning_rate=learning_rate,\n",
    "                                           batch_size=batch_size,\n",
    "                                           x_test = x_test,y_test = y_test_hot)\n",
    "    batchNorm_tr_loss = batchNorm_tr_metrics[:,0]\n",
    "    batchNorm_tr_accuracy = batchNorm_tr_metrics[:,1]\n",
    "    batchNorm_val_loss = batchNorm_val_metrics[:,0]\n",
    "    batchNorm_val_accuracy = batchNorm_val_metrics[:,1]\n",
    "    batchNorm_pred = model_batchNorm.evaluate_model(x_test,y_test_hot)[1]\n",
    "\n",
    "    \n",
    "    print(f'batchNorm metrics = {dataset.get_metrics(batchNorm_pred,y_test)}')\n",
    "    \n",
    "    model_dropout = NeuralNetwork([LinearLayer(x_train.shape[1], neurons,None),\n",
    "                                SigmoidLayer(),\n",
    "                                Dropout(0.8),\n",
    "                                LinearLayer(neurons, y_train_hot.shape[1],None),\n",
    "                                SigmoidLayer()])\n",
    "    dropout_tr_metrics, dropout_val_metrics= model_dropout.fit(x_train, y_train_hot, steps=steps,\n",
    "                                           learning_rate=learning_rate,\n",
    "                                           batch_size=batch_size,\n",
    "                                           x_test = x_test,y_test = y_test_hot)\n",
    "    dropout_tr_loss = dropout_tr_metrics[:,0]\n",
    "    dropout_tr_accuracy = dropout_tr_metrics[:,1]\n",
    "    dropout_val_loss = dropout_val_metrics[:,0]\n",
    "    dropout_val_accuracy = dropout_val_metrics[:,1]\n",
    "    dropout_pred = model_dropout.evaluate_model(x_test,y_test_hot)[1]\n",
    "\n",
    "    \n",
    "    print(f'dropout metrics = {dataset.get_metrics(dropout_pred,y_test)}')\n",
    "    \n",
    "    model_L1 = NeuralNetwork([LinearLayer(x_train.shape[1], neurons,None),\n",
    "                                SigmoidLayer(),\n",
    "                                LinearLayer(neurons, y_train_hot.shape[1],None),\n",
    "                                SigmoidLayer()])\n",
    "    L1_tr_metrics,L1_val_metrics = model_L1.fit(x_train, y_train_hot, steps=steps,\n",
    "                                           learning_rate=learning_rate,\n",
    "                                           batch_size=batch_size,\n",
    "                                           x_test = x_test,y_test = y_test_hot)\n",
    "    L1_tr_loss = L1_tr_metrics[:,0]\n",
    "    L1_tr_accuracy = L1_tr_metrics[:,1]\n",
    "    L1_val_loss = L1_val_metrics[:,0]\n",
    "    L1_val_accuracy = L1_val_metrics[:,1]\n",
    "    L1_pred = model_L1.evaluate_model(x_test,y_test_hot)[1]\n",
    "    \n",
    "    print(f'L1 metrics = {dataset.get_metrics(L1_pred,y_test)}')\n",
    "    \n",
    "    model_L2 = NeuralNetwork([LinearLayer(x_train.shape[1], neurons,None),\n",
    "                                SigmoidLayer(),\n",
    "                                LinearLayer(neurons, y_train_hot.shape[1],None),\n",
    "                                SigmoidLayer()])\n",
    "    \n",
    "\n",
    "    L2_tr_metrics,L2_val_metrics = model_L2.fit(x_train, y_train_hot, steps=steps,\n",
    "                                           learning_rate=learning_rate,\n",
    "                                           batch_size=batch_size,\n",
    "                                           x_test = x_test,y_test = y_test_hot)\n",
    "    L2_tr_loss = L2_tr_metrics[:,0]\n",
    "    L2_tr_accuracy = L2_tr_metrics[:,1]\n",
    "    L2_val_loss = L2_val_metrics[:,0]\n",
    "    L2_val_accuracy = L2_val_metrics[:,1]\n",
    "    L2_pred = model_L2.evaluate_model(x_test,y_test_hot)[1]\n",
    "    \n",
    "    print(f'L2 metrics = {dataset.get_metrics(L2_pred,y_test)}')\n",
    "    \n",
    "    ##baseline_accuracy_test = model_baseline.evaluate_model(x_test,y_test)[:,1]\n",
    "    \n",
    "    ##print(\"Training Model w/ Batch Norm\")\n",
    "    ##baseline_accuracy_test = model_baseline.evaluate_model(x_test,y_test)[:,1]\n",
    "    ##print(f\"Baseline accuracy on Test Data{bn_accuracy}\")\n",
    "    "
   ]
  },
  {
   "cell_type": "code",
   "execution_count": 174,
   "id": "b23cd647",
   "metadata": {},
   "outputs": [
    {
     "data": {
      "image/png": "[encoded data removed]",
      "text/plain": [
       "<Figure size 432x288 with 1 Axes>"
      ]
     },
     "metadata": {
      "needs_background": "light"
     },
     "output_type": "display_data"
    },
    {
     "data": {
      "image/png": "[encoded data removed]",
      "text/plain": [
       "<Figure size 432x288 with 1 Axes>"
      ]
     },
     "metadata": {
      "needs_background": "light"
     },
     "output_type": "display_data"
    },
    {
     "data": {
      "image/png": "[encoded data removed]",
      "text/plain": [
       "<Figure size 432x288 with 1 Axes>"
      ]
     },
     "metadata": {
      "needs_background": "light"
     },
     "output_type": "display_data"
    },
    {
     "data": {
      "image/png": "[encoded data removed]",
      "text/plain": [
       "<Figure size 432x288 with 1 Axes>"
      ]
     },
     "metadata": {
      "needs_background": "light"
     },
     "output_type": "display_data"
    },
    {
     "name": "stderr",
     "output_type": "stream",
     "text": [
      "  0%|                                                                                           | 0/83 [00:00<?, ?it/s]C:\\Users\\Asus\\AppData\\Local\\Temp/ipykernel_17376/2614723586.py:7: RuntimeWarning: overflow encountered in exp\n",
      "  self.next_x = 1. / (1. + np.exp(-x))\n",
      "  1%|█                                                                                  | 1/83 [00:07<10:18,  7.55s/it]"
     ]
    },
    {
     "name": "stdout",
     "output_type": "stream",
     "text": [
      "[6 6 6 ... 6 6 6]\n",
      "0.3676122816709519 0.1948323438414583 0.3676464094539431 0.19467991815258695\n"
     ]
    },
    {
     "name": "stderr",
     "output_type": "stream",
     "text": [
      " 61%|██████████████████████████████████████████████████▍                               | 51/83 [06:39<04:04,  7.65s/it]"
     ]
    },
    {
     "name": "stdout",
     "output_type": "stream",
     "text": [
      "[6 6 6 ... 6 6 6]\n",
      "0.32347597741823236 0.32979346099172174 0.32331460321011773 0.3291435252850044\n"
     ]
    },
    {
     "name": "stderr",
     "output_type": "stream",
     "text": [
      "100%|██████████████████████████████████████████████████████████████████████████████████| 83/83 [12:32<00:00,  9.06s/it]\n"
     ]
    }
   ],
   "source": [
    "    num_batches = math.ceil(x_train.shape[0] / batch_size)\n",
    "    steps_axis = np.linspace(1, steps/num_batches, len(baseline_val_loss)//10+1)\n",
    "    steps_axis = steps_axis.astype(\"int\")\n",
    "\n",
    "    plt.plot(baseline_val_loss, label=\"Baseline\")\n",
    "    plt.plot(batchNorm_val_loss, label=\"BatchNorm\")\n",
    "    plt.plot(dropout_val_loss, label=\"Dropout\")\n",
    "    plt.plot(L1_val_loss,label = \"L1\")\n",
    "    plt.plot(L2_val_loss,label = \"L2\")\n",
    "    plt.ylabel(\"Validation Loss\")\n",
    "    plt.xlabel(\"Steps\")\n",
    "    plt.title(\"Loss versus Iterations\")\n",
    "    locs = np.linspace(0, len(baseline_val_loss)-1, len(baseline_val_loss)//10+1)\n",
    "    #plt.xticks(locs, [str(x)+\"k\" for x in steps_axis])\n",
    "    plt.grid()\n",
    "    plt.legend()\n",
    "    plt.show()\n",
    "    plt.close()\n",
    "    \n",
    "    plt.plot(baseline_tr_loss, label=\"Baseline\")\n",
    "    plt.plot(batchNorm_tr_loss, label=\"BatchNorm\")\n",
    "    plt.plot(dropout_tr_loss, label=\"Dropout\")\n",
    "    plt.plot(L1_tr_loss,label = \"L1\")\n",
    "    plt.plot(L2_tr_loss,label = \"L2\")\n",
    "    plt.ylabel(\"Training Loss\")\n",
    "    plt.xlabel(\"Steps\")\n",
    "    plt.title(\"Loss versus Iterations\")\n",
    "    locs = np.linspace(0, len(baseline_tr_loss)-1, len(baseline_tr_loss)//10+1)\n",
    "    #plt.xticks(locs, [str(x)+\"k\" for x in steps_axis])\n",
    "    plt.grid()\n",
    "    plt.legend()\n",
    "    plt.show()\n",
    "    plt.close()\n",
    "    \n",
    "    plt.plot(baseline_val_accuracy, label=\"Baseline\")\n",
    "    plt.plot(batchNorm_val_accuracy, label=\"BatchNorm\")\n",
    "    plt.plot(dropout_val_accuracy, label=\"Dropout\")\n",
    "    plt.plot(L1_val_accuracy,label = \"L1\")\n",
    "    plt.plot(L2_val_accuracy,label = \"L2\")\n",
    "    plt.ylabel(\"Validation Accuracy\")\n",
    "    plt.xlabel(\"Steps\")\n",
    "    plt.title(\"Accuracy versus iterations\")\n",
    "    locs = np.linspace(0, len(baseline_val_loss)-1, len(baseline_val_loss)//10+1)\n",
    "    #plt.xticks(locs, [str(x)+\"k\" for x in steps_axis])\n",
    "    plt.grid() \n",
    "    plt.legend()\n",
    "    plt.show()\n",
    "    plt.close()\n",
    "    \n",
    "    plt.plot(baseline_tr_accuracy, label=\"Baseline\")\n",
    "    plt.plot(batchNorm_tr_accuracy, label=\"BatchNorm\")\n",
    "    plt.plot(dropout_tr_accuracy, label=\"Dropout\")\n",
    "    plt.plot(L1_tr_accuracy,label = \"L1\")\n",
    "    plt.plot(L2_tr_accuracy,label = \"L2\")\n",
    "    plt.ylabel(\"Training Accuracy\")\n",
    "    plt.xlabel(\"Steps\")\n",
    "    plt.title(\"Accuracy versus Iterations\")\n",
    "    locs = np.linspace(0, len(baseline_tr_accuracy)-1, len(baseline_tr_accuracy)//10+1)\n",
    "    #plt.xticks(locs, [str(x)+\"k\" for x in steps_axis])\n",
    "    plt.grid()\n",
    "    plt.legend()\n",
    "    plt.show()\n",
    "    plt.close()\n",
    "    \n",
    "    ## 2 layer neural Networks \n",
    "    \n",
    "    model_baseline =NeuralNetwork([LinearLayer(x_train.shape[1], neurons,None),\n",
    "                                SigmoidLayer(),\n",
    "                                LinearLayer(neurons, neurons,None),\n",
    "                                SigmoidLayer(),\n",
    "                                LinearLayer(neurons, y_train_hot.shape[1],None),\n",
    "                                SigmoidLayer()])\n",
    "    baseline_tr_metrics,baseline_val_metrics = model_baseline.fit(x_train, y_train_hot, steps=steps,\n",
    "                                           learning_rate=learning_rate,\n",
    "                                           batch_size=batch_size,\n",
    "                                           x_test = x_test,y_test = y_test_hot)\n",
    "    baseline_tr_loss = baseline_tr_metrics[:,0]\n",
    "    baseline_tr_accuracy = baseline_tr_metrics[:,1]\n",
    "    baseline_val_loss = baseline_val_metrics[:,0]\n",
    "    baseline_val_accuracy = baseline_val_metrics[:,1]\n",
    "    "
   ]
  },
  {
   "cell_type": "code",
   "execution_count": 175,
   "id": "1feb8f5f",
   "metadata": {},
   "outputs": [
    {
     "name": "stderr",
     "output_type": "stream",
     "text": [
      "C:\\Users\\Asus\\AppData\\Local\\Temp/ipykernel_17376/2614723586.py:7: RuntimeWarning: overflow encountered in exp\n",
      "  self.next_x = 1. / (1. + np.exp(-x))\n"
     ]
    },
    {
     "name": "stdout",
     "output_type": "stream",
     "text": [
      "baseline metrics on test data = (0.3273896521484946, 0, 0.20021451555237754)\n"
     ]
    },
    {
     "name": "stderr",
     "output_type": "stream",
     "text": [
      "  1%|█                                                                                  | 1/83 [00:10<13:41, 10.02s/it]"
     ]
    },
    {
     "name": "stdout",
     "output_type": "stream",
     "text": [
      "[2 6 7 ... 3 3 6]\n",
      "0.2893342544190666 0.6411071159795969 0.2914502413431011 0.6296404560070155\n"
     ]
    },
    {
     "name": "stderr",
     "output_type": "stream",
     "text": [
      " 61%|██████████████████████████████████████████████████▍                               | 51/83 [08:00<05:39, 10.60s/it]"
     ]
    },
    {
     "name": "stdout",
     "output_type": "stream",
     "text": [
      "[1 2 7 ... 3 6 3]\n",
      "0.10059951402147914 0.881595451124676 0.1255990453169157 0.8246126863490207\n"
     ]
    },
    {
     "name": "stderr",
     "output_type": "stream",
     "text": [
      "100%|██████████████████████████████████████████████████████████████████████████████████| 83/83 [13:03<00:00,  9.44s/it]\n"
     ]
    },
    {
     "name": "stdout",
     "output_type": "stream",
     "text": [
      "batchNorm metrics = (0.8582285881321251, 0.7094068304373877, 0.8933793533364502)\n"
     ]
    },
    {
     "name": "stderr",
     "output_type": "stream",
     "text": [
      "  1%|█                                                                                  | 1/83 [00:07<10:39,  7.79s/it]"
     ]
    },
    {
     "name": "stdout",
     "output_type": "stream",
     "text": [
      "[6 6 6 ... 6 6 6]\n",
      "0.36842754380112164 0.1948323438414583 0.3684537904423458 0.19467991815258695\n"
     ]
    },
    {
     "name": "stderr",
     "output_type": "stream",
     "text": [
      " 61%|██████████████████████████████████████████████████▍                               | 51/83 [06:51<04:24,  8.26s/it]"
     ]
    },
    {
     "name": "stdout",
     "output_type": "stream",
     "text": [
      "[7 7 7 ... 7 7 6]\n",
      "0.34397385900669913 0.2827159461493436 0.3440603223420411 0.28120432622040337\n"
     ]
    },
    {
     "name": "stderr",
     "output_type": "stream",
     "text": [
      "100%|██████████████████████████████████████████████████████████████████████████████████| 83/83 [12:49<00:00,  9.27s/it]\n"
     ]
    },
    {
     "name": "stdout",
     "output_type": "stream",
     "text": [
      "dropout metrics = (0.2987430575855013, 0, 0.18269574544154452)\n"
     ]
    },
    {
     "name": "stderr",
     "output_type": "stream",
     "text": [
      "  1%|█                                                                                  | 1/83 [00:10<14:00, 10.24s/it]"
     ]
    },
    {
     "name": "stdout",
     "output_type": "stream",
     "text": [
      "[6 6 6 ... 6 6 6]\n",
      "0.3684186101158932 0.1948323438414583 0.36840742664830173 0.19467991815258695\n"
     ]
    },
    {
     "name": "stderr",
     "output_type": "stream",
     "text": [
      " 61%|██████████████████████████████████████████████████▍                               | 51/83 [08:25<05:00,  9.39s/it]"
     ]
    },
    {
     "name": "stdout",
     "output_type": "stream",
     "text": [
      "[1 1 7 ... 1 7 1]\n",
      "0.31637613027284944 0.31909022493519523 0.3165711261299885 0.3203741596024554\n"
     ]
    },
    {
     "name": "stderr",
     "output_type": "stream",
     "text": [
      "100%|██████████████████████████████████████████████████████████████████████████████████| 83/83 [13:28<00:00,  9.74s/it]\n"
     ]
    },
    {
     "name": "stdout",
     "output_type": "stream",
     "text": [
      "L1 metrics = (0.29406606255480855, 0, 0.17983553807651054)\n"
     ]
    },
    {
     "name": "stderr",
     "output_type": "stream",
     "text": [
      "  1%|█                                                                                  | 1/83 [00:09<12:48,  9.37s/it]"
     ]
    },
    {
     "name": "stdout",
     "output_type": "stream",
     "text": [
      "[6 6 6 ... 6 6 6]\n",
      "0.3676438113980244 0.1948323438414583 0.3676768172701808 0.19467991815258695\n"
     ]
    },
    {
     "name": "stderr",
     "output_type": "stream",
     "text": [
      " 61%|██████████████████████████████████████████████████▍                               | 51/83 [08:01<05:15,  9.86s/it]"
     ]
    },
    {
     "name": "stdout",
     "output_type": "stream",
     "text": [
      "[6 6 6 ... 6 6 6]\n",
      "0.3674568958060835 0.1948323438414583 0.36748860274817136 0.19467991815258695\n"
     ]
    },
    {
     "name": "stderr",
     "output_type": "stream",
     "text": [
      "100%|██████████████████████████████████████████████████████████████████████████████████| 83/83 [13:00<00:00,  9.41s/it]\n"
     ]
    },
    {
     "name": "stdout",
     "output_type": "stream",
     "text": [
      "L2 metrics = (0.19467991815258695, 0, 0.11905613156953879)\n"
     ]
    },
    {
     "data": {
      "image/png": "[encoded data removed]",
      "text/plain": [
       "<Figure size 432x288 with 1 Axes>"
      ]
     },
     "metadata": {
      "needs_background": "light"
     },
     "output_type": "display_data"
    },
    {
     "data": {
      "image/png": "[encoded data removed]",
      "text/plain": [
       "<Figure size 432x288 with 1 Axes>"
      ]
     },
     "metadata": {
      "needs_background": "light"
     },
     "output_type": "display_data"
    },
    {
     "data": {
      "image/png": "[encoded data removed]",
      "text/plain": [
       "<Figure size 432x288 with 1 Axes>"
      ]
     },
     "metadata": {
      "needs_background": "light"
     },
     "output_type": "display_data"
    },
    {
     "data": {
      "image/png": "[encoded data removed]",
      "text/plain": [
       "<Figure size 432x288 with 1 Axes>"
      ]
     },
     "metadata": {
      "needs_background": "light"
     },
     "output_type": "display_data"
    }
   ],
   "source": [
    "    baseline_pred = model_baseline.evaluate_model(x_test,y_test_hot)[1]\n",
    "    \n",
    "    print(f'baseline metrics on test data = {dataset.get_metrics(baseline_pred,y_test)}')\n",
    "    \n",
    "    model_batchNorm = NeuralNetwork([LinearLayer(x_train.shape[1], neurons,None),\n",
    "                                BatchNormLayer(neurons),\n",
    "                                SigmoidLayer(),\n",
    "                                LinearLayer(neurons, neurons,None),\n",
    "                                BatchNormLayer(neurons),\n",
    "                                SigmoidLayer(),\n",
    "                                LinearLayer(neurons, y_train_hot.shape[1],None),\n",
    "                                SigmoidLayer()])\n",
    "    batchNorm_tr_metrics,batchNorm_val_metrics = model_batchNorm.fit(x_train, y_train_hot, steps=steps,\n",
    "                                           learning_rate=learning_rate,\n",
    "                                           batch_size=batch_size,\n",
    "                                           x_test = x_test,y_test = y_test_hot)\n",
    "    batchNorm_tr_loss = batchNorm_tr_metrics[:,0]\n",
    "    batchNorm_tr_accuracy = batchNorm_tr_metrics[:,1]\n",
    "    batchNorm_val_loss = batchNorm_val_metrics[:,0]\n",
    "    batchNorm_val_accuracy = batchNorm_val_metrics[:,1]\n",
    "    batchNorm_pred = model_batchNorm.evaluate_model(x_test,y_test_hot)[1]\n",
    "\n",
    "    \n",
    "    print(f'batchNorm metrics = {dataset.get_metrics(batchNorm_pred,y_test)}')\n",
    "    \n",
    "    model_dropout = NeuralNetwork([LinearLayer(x_train.shape[1], neurons,None),\n",
    "                                SigmoidLayer(),\n",
    "                                Dropout(0.8),\n",
    "                                LinearLayer(neurons, neurons,None),\n",
    "                                SigmoidLayer(),\n",
    "                                Dropout(0.6),\n",
    "                                LinearLayer(neurons, y_train_hot.shape[1],None),\n",
    "                                SigmoidLayer()])\n",
    "    dropout_tr_metrics, dropout_val_metrics= model_dropout.fit(x_train, y_train_hot, steps=steps,\n",
    "                                           learning_rate=learning_rate,\n",
    "                                           batch_size=batch_size,\n",
    "                                           x_test = x_test,y_test = y_test_hot)\n",
    "    dropout_tr_loss = dropout_tr_metrics[:,0]\n",
    "    dropout_tr_accuracy = dropout_tr_metrics[:,1]\n",
    "    dropout_val_loss = dropout_val_metrics[:,0]\n",
    "    dropout_val_accuracy = dropout_val_metrics[:,1]\n",
    "    dropout_pred = model_dropout.evaluate_model(x_test,y_test_hot)[1]\n",
    "\n",
    "    \n",
    "    print(f'dropout metrics = {dataset.get_metrics(dropout_pred,y_test)}')\n",
    "    \n",
    "    model_L1 = NeuralNetwork([LinearLayer(x_train.shape[1], neurons,'L1'),\n",
    "                                SigmoidLayer(),\n",
    "                                LinearLayer(neurons, neurons,'L1'),\n",
    "                                SigmoidLayer(),\n",
    "                                LinearLayer(neurons, y_train_hot.shape[1],'L1'),\n",
    "                                SigmoidLayer()])\n",
    "    L1_tr_metrics,L1_val_metrics = model_L1.fit(x_train, y_train_hot, steps=steps,\n",
    "                                           learning_rate=learning_rate,\n",
    "                                           batch_size=batch_size,\n",
    "                                           x_test = x_test,y_test = y_test_hot)\n",
    "    L1_tr_loss = L1_tr_metrics[:,0]\n",
    "    L1_tr_accuracy = L1_tr_metrics[:,1]\n",
    "    L1_val_loss = L1_val_metrics[:,0]\n",
    "    L1_val_accuracy = L1_val_metrics[:,1]\n",
    "    L1_pred = model_L1.evaluate_model(x_test,y_test_hot)[1]\n",
    "    \n",
    "    \n",
    "    print(f'L1 metrics = {dataset.get_metrics(L1_pred,y_test)}')\n",
    "    \n",
    "    model_L2 = NeuralNetwork([LinearLayer(x_train.shape[1], neurons,'L2'),\n",
    "                                SigmoidLayer(),\n",
    "                                LinearLayer(neurons, neurons,'L2'),\n",
    "                                SigmoidLayer(),\n",
    "                                LinearLayer(neurons, y_train_hot.shape[1],'L2'),\n",
    "                                SigmoidLayer()])\n",
    "    \n",
    "\n",
    "    L2_tr_metrics,L2_val_metrics = model_L2.fit(x_train, y_train_hot, steps=steps,\n",
    "                                           learning_rate=learning_rate,\n",
    "                                           batch_size=batch_size,\n",
    "                                           x_test = x_test,y_test = y_test_hot)\n",
    "    L2_tr_loss = L2_tr_metrics[:,0]\n",
    "    L2_tr_accuracy = L2_tr_metrics[:,1]\n",
    "    L2_val_loss = L2_val_metrics[:,0]\n",
    "    L2_val_accuracy = L2_val_metrics[:,1]\n",
    "    L2_pred = model_L2.evaluate_model(x_test,y_test_hot)[1]\n",
    "    \n",
    "    print(f'L2 metrics = {dataset.get_metrics(L2_pred,y_test)}')\n",
    "    \n",
    "    \n",
    "    ##baseline_accuracy_test = model_baseline.evaluate_model(x_test,y_test)[:,1]\n",
    "    \n",
    "    ##print(\"Training Model w/ Batch Norm\")\n",
    "    ##baseline_accuracy_test = model_baseline.evaluate_model(x_test,y_test)[:,1]\n",
    "    ##print(f\"Baseline accuracy on Test Data{bn_accuracy}\")\n",
    "    num_batches = math.ceil(x_train.shape[0] / batch_size)\n",
    "    steps_axis = np.linspace(1, steps/num_batches, len(baseline_val_loss)//10+1)\n",
    "    steps_axis = steps_axis.astype(\"int\")\n",
    "\n",
    "    plt.plot(baseline_val_loss, label=\"Baseline\")\n",
    "    plt.plot(batchNorm_val_loss, label=\"BatchNorm\")\n",
    "    plt.plot(dropout_val_loss, label=\"Dropout\")\n",
    "    plt.plot(L1_val_loss,label = \"L1\")\n",
    "    plt.plot(L2_val_loss,label = \"L2\")\n",
    "    plt.ylabel(\"Validation Loss\")\n",
    "    plt.xlabel(\"Steps\")\n",
    "    plt.title(\"Loss versus Iterations\")\n",
    "    locs = np.linspace(0, len(baseline_val_loss)-1, len(baseline_val_loss)//10+1)\n",
    "    #plt.xticks(locs, [str(x)+\"k\" for x in steps_axis])\n",
    "    plt.grid()\n",
    "    plt.legend()\n",
    "    plt.show()\n",
    "    plt.close()\n",
    "    \n",
    "    plt.plot(baseline_tr_loss, label=\"Baseline\")\n",
    "    plt.plot(batchNorm_tr_loss, label=\"BatchNorm\")\n",
    "    plt.plot(dropout_tr_loss, label=\"Dropout\")\n",
    "    plt.plot(L1_tr_loss,label = \"L1\")\n",
    "    plt.plot(L2_tr_loss,label = \"L2\")\n",
    "    plt.ylabel(\"Training Loss\")\n",
    "    plt.xlabel(\"Steps\")\n",
    "    plt.title(\"Loss versus Iterations\")\n",
    "    locs = np.linspace(0, len(baseline_tr_loss)-1, len(baseline_tr_loss)//10+1)\n",
    "    #plt.xticks(locs, [str(x)+\"k\" for x in steps_axis])\n",
    "    plt.grid()\n",
    "    plt.legend()\n",
    "    plt.show()\n",
    "    plt.close()\n",
    "    \n",
    "    plt.plot(baseline_val_accuracy, label=\"Baseline\")\n",
    "    plt.plot(batchNorm_val_accuracy, label=\"BatchNorm\")\n",
    "    plt.plot(dropout_val_accuracy, label=\"Dropout\")\n",
    "    plt.plot(L1_val_accuracy,label = \"L1\")\n",
    "    plt.plot(L2_val_accuracy,label = \"L2\")\n",
    "    plt.ylabel(\"Validation Accuracy\")\n",
    "    plt.xlabel(\"Steps\")\n",
    "    plt.title(\"Accuracy versus iterations\")\n",
    "    locs = np.linspace(0, len(baseline_val_loss)-1, len(baseline_val_loss)//10+1)\n",
    "    #plt.xticks(locs, [str(x)+\"k\" for x in steps_axis])\n",
    "    plt.grid() \n",
    "    plt.legend()\n",
    "    plt.show()\n",
    "    plt.close()\n",
    "    \n",
    "    plt.plot(baseline_tr_accuracy, label=\"Baseline\")\n",
    "    plt.plot(batchNorm_tr_accuracy, label=\"BatchNorm\")\n",
    "    plt.plot(dropout_tr_accuracy, label=\"Dropout\")\n",
    "    plt.plot(L1_tr_accuracy,label = \"L1\")\n",
    "    plt.plot(L2_tr_accuracy,label = \"L2\")\n",
    "    plt.ylabel(\"Training Accuracy\")\n",
    "    plt.xlabel(\"Steps\")\n",
    "    plt.title(\"Accuracy versus Iterations\")\n",
    "    locs = np.linspace(0, len(baseline_tr_accuracy)-1, len(baseline_tr_accuracy)//10+1)\n",
    "    #plt.xticks(locs, [str(x)+\"k\" for x in steps_axis])\n",
    "    plt.grid()\n",
    "    plt.legend()\n",
    "    plt.show()\n",
    "    plt.close()\n",
    "    ## 3 layers \n",
    "    \n",
    "    \n"
   ]
  },
  {
   "cell_type": "code",
   "execution_count": null,
   "id": "32bcc4d1",
   "metadata": {},
   "outputs": [],
   "source": []
  }
 ],
 "metadata": {
  "kernelspec": {
   "display_name": "Python 3 (ipykernel)",
   "language": "python",
   "name": "python3"
  },
  "language_info": {
   "codemirror_mode": {
    "name": "ipython",
    "version": 3
   },
   "file_extension": ".py",
   "mimetype": "text/x-python",
   "name": "python",
   "nbconvert_exporter": "python",
   "pygments_lexer": "ipython3",
   "version": "3.9.7"
  },
  "toc": {
   "base_numbering": 1,
   "nav_menu": {},
   "number_sections": true,
   "sideBar": true,
   "skip_h1_title": false,
   "title_cell": "Table of Contents",
   "title_sidebar": "Contents",
   "toc_cell": false,
   "toc_position": {},
   "toc_section_display": true,
   "toc_window_display": false
  },
  "varInspector": {
   "cols": {
    "lenName": 16,
    "lenType": 16,
    "lenVar": 40
   },
   "kernels_config": {
    "python": {
     "delete_cmd_postfix": "",
     "delete_cmd_prefix": "del ",
     "library": "var_list.py",
     "varRefreshCmd": "print(var_dic_list())"
    },
    "r": {
     "delete_cmd_postfix": ") ",
     "delete_cmd_prefix": "rm(",
     "library": "var_list.r",
     "varRefreshCmd": "cat(var_dic_list()) "
    }
   },
   "types_to_exclude": [
    "module",
    "function",
    "builtin_function_or_method",
    "instance",
    "_Feature"
   ],
   "window_display": false
  }
 },
 "nbformat": 4,
 "nbformat_minor": 5
}
